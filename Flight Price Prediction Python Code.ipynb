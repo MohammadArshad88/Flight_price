{
 "cells": [
  {
   "cell_type": "code",
   "execution_count": 1,
   "id": "4238c052",
   "metadata": {},
   "outputs": [],
   "source": [
    "#Import the necessary libraries\n",
    "\n",
    "import pandas as pd\n",
    "import numpy as np\n",
    "\n",
    "import matplotlib.pyplot as plt\n",
    "%matplotlib inline\n",
    "import seaborn as sns\n",
    "\n",
    "import warnings\n",
    "warnings.filterwarnings('ignore')\n",
    "\n",
    "\n",
    "# from sklearn.preprocessing import RobustScaler\n",
    "from sklearn.model_selection import train_test_split,GridSearchCV,cross_val_score\n",
    "\n",
    "\n",
    "from sklearn.neighbors import KNeighborsRegressor\n",
    "from sklearn.linear_model import LogisticRegression\n",
    "from sklearn.linear_model import LinearRegression\n",
    "from xgboost import XGBRegressor\n",
    "from sklearn.tree import DecisionTreeRegressor\n",
    "from sklearn.ensemble import RandomForestRegressor\n",
    "\n",
    "\n",
    "from sklearn.metrics import mean_absolute_error, r2_score, mean_squared_error"
   ]
  },
  {
   "cell_type": "code",
   "execution_count": 2,
   "id": "3f411894",
   "metadata": {},
   "outputs": [
    {
     "data": {
      "text/html": [
       "<div>\n",
       "<style scoped>\n",
       "    .dataframe tbody tr th:only-of-type {\n",
       "        vertical-align: middle;\n",
       "    }\n",
       "\n",
       "    .dataframe tbody tr th {\n",
       "        vertical-align: top;\n",
       "    }\n",
       "\n",
       "    .dataframe thead th {\n",
       "        text-align: right;\n",
       "    }\n",
       "</style>\n",
       "<table border=\"1\" class=\"dataframe\">\n",
       "  <thead>\n",
       "    <tr style=\"text-align: right;\">\n",
       "      <th></th>\n",
       "      <th>Date of Booking</th>\n",
       "      <th>Date of Journey</th>\n",
       "      <th>Airline-Class</th>\n",
       "      <th>Departure Time</th>\n",
       "      <th>Arrival Time</th>\n",
       "      <th>Duration</th>\n",
       "      <th>Total Stops</th>\n",
       "      <th>Price</th>\n",
       "    </tr>\n",
       "  </thead>\n",
       "  <tbody>\n",
       "    <tr>\n",
       "      <th>0</th>\n",
       "      <td>15/01/2023</td>\n",
       "      <td>16/01/2023</td>\n",
       "      <td>SpiceJet \\nSG-8169\\nECONOMY</td>\n",
       "      <td>20:00\\nDelhi</td>\n",
       "      <td>22:05\\nMumbai</td>\n",
       "      <td>02h 05m</td>\n",
       "      <td>non-stop</td>\n",
       "      <td>5,335</td>\n",
       "    </tr>\n",
       "    <tr>\n",
       "      <th>1</th>\n",
       "      <td>15/01/2023</td>\n",
       "      <td>16/01/2023</td>\n",
       "      <td>Indigo \\n6E-2519\\nECONOMY</td>\n",
       "      <td>23:00\\nDelhi</td>\n",
       "      <td>01:20\\nMumbai</td>\n",
       "      <td>02h 20m</td>\n",
       "      <td>non-stop</td>\n",
       "      <td>5,899</td>\n",
       "    </tr>\n",
       "    <tr>\n",
       "      <th>2</th>\n",
       "      <td>15/01/2023</td>\n",
       "      <td>16/01/2023</td>\n",
       "      <td>GO FIRST \\nG8- 354\\nECONOMY</td>\n",
       "      <td>22:30\\nDelhi</td>\n",
       "      <td>00:40\\nMumbai</td>\n",
       "      <td>02h 10m</td>\n",
       "      <td>non-stop</td>\n",
       "      <td>5,801</td>\n",
       "    </tr>\n",
       "  </tbody>\n",
       "</table>\n",
       "</div>"
      ],
      "text/plain": [
       "  Date of Booking Date of Journey                Airline-Class Departure Time  \\\n",
       "0      15/01/2023      16/01/2023  SpiceJet \\nSG-8169\\nECONOMY   20:00\\nDelhi   \n",
       "1      15/01/2023      16/01/2023    Indigo \\n6E-2519\\nECONOMY   23:00\\nDelhi   \n",
       "2      15/01/2023      16/01/2023  GO FIRST \\nG8- 354\\nECONOMY   22:30\\nDelhi   \n",
       "\n",
       "    Arrival Time Duration Total Stops  Price  \n",
       "0  22:05\\nMumbai  02h 05m    non-stop  5,335  \n",
       "1  01:20\\nMumbai  02h 20m    non-stop  5,899  \n",
       "2  00:40\\nMumbai  02h 10m    non-stop  5,801  "
      ]
     },
     "execution_count": 2,
     "metadata": {},
     "output_type": "execute_result"
    }
   ],
   "source": [
    "df = pd.read_csv('Scraped_dataset.csv')\n",
    "df.head(3)"
   ]
  },
  {
   "cell_type": "code",
   "execution_count": 3,
   "id": "969675e8",
   "metadata": {},
   "outputs": [
    {
     "data": {
      "text/plain": [
       "(452088, 8)"
      ]
     },
     "execution_count": 3,
     "metadata": {},
     "output_type": "execute_result"
    }
   ],
   "source": [
    "df.shape"
   ]
  },
  {
   "cell_type": "code",
   "execution_count": 4,
   "id": "06bbf540",
   "metadata": {},
   "outputs": [
    {
     "data": {
      "text/plain": [
       "<bound method DataFrame.info of        Date of Booking Date of Journey                Airline-Class  \\\n",
       "0           15/01/2023      16/01/2023  SpiceJet \\nSG-8169\\nECONOMY   \n",
       "1           15/01/2023      16/01/2023    Indigo \\n6E-2519\\nECONOMY   \n",
       "2           15/01/2023      16/01/2023  GO FIRST \\nG8- 354\\nECONOMY   \n",
       "3           15/01/2023      16/01/2023  SpiceJet \\nSG-8709\\nECONOMY   \n",
       "4           15/01/2023      16/01/2023  Air India \\nAI-805\\nECONOMY   \n",
       "...                ...             ...                          ...   \n",
       "452083      15/01/2023      06/03/2023   Vistara \\nUK-926\\nBUSINESS   \n",
       "452084      15/01/2023      06/03/2023   Vistara \\nUK-918\\nBUSINESS   \n",
       "452085      15/01/2023      06/03/2023   Vistara \\nUK-918\\nBUSINESS   \n",
       "452086      15/01/2023      06/03/2023   Vistara \\nUK-946\\nBUSINESS   \n",
       "452087      15/01/2023      06/03/2023   Vistara \\nUK-946\\nBUSINESS   \n",
       "\n",
       "          Departure Time    Arrival Time Duration Total Stops   Price  \n",
       "0           20:00\\nDelhi   22:05\\nMumbai  02h 05m    non-stop   5,335  \n",
       "1           23:00\\nDelhi   01:20\\nMumbai  02h 20m    non-stop   5,899  \n",
       "2           22:30\\nDelhi   00:40\\nMumbai  02h 10m    non-stop   5,801  \n",
       "3           18:50\\nDelhi   20:55\\nMumbai  02h 05m    non-stop   5,794  \n",
       "4           20:00\\nDelhi   22:10\\nMumbai  02h 10m    non-stop   5,955  \n",
       "...                  ...             ...      ...         ...     ...  \n",
       "452083  06:45\\nAhmedabad  19:50\\nChennai  13h 05m      1-stop  65,028  \n",
       "452084  05:05\\nAhmedabad  16:20\\nChennai  11h 15m      1-stop  69,254  \n",
       "452085  05:05\\nAhmedabad  16:20\\nChennai  11h 15m      1-stop  69,254  \n",
       "452086  08:40\\nAhmedabad  19:50\\nChennai  11h 10m      1-stop  72,980  \n",
       "452087  08:40\\nAhmedabad  19:50\\nChennai  11h 10m      1-stop  72,980  \n",
       "\n",
       "[452088 rows x 8 columns]>"
      ]
     },
     "execution_count": 4,
     "metadata": {},
     "output_type": "execute_result"
    }
   ],
   "source": [
    "df.info"
   ]
  },
  {
   "cell_type": "code",
   "execution_count": 5,
   "id": "60cae595",
   "metadata": {},
   "outputs": [],
   "source": [
    "df[[\"Airline\",\"Flight_Code\",\"Class\"]] = df[\"Airline-Class\"].str.split('\\n',expand=True)\n",
    "#Split the Departure Time column \n",
    "\n",
    "df[[\"Departure\",\"Source\"]] = df[\"Departure Time\"].str.split('\\n',expand=True)\n",
    "#Split the Arrival Time column\n",
    "\n",
    "df[[\"Arrival\",\"Destination\"]] = df[\"Arrival Time\"].str.split('\\n',expand=True)\n",
    "#Convert Date columns into datetime format\n",
    "\n",
    "df[\"Date of Booking\"] = pd.to_datetime(df[\"Date of Booking\"],format = \"%d/%m/%Y\")\n",
    "df[\"Date of Journey\"] = pd.to_datetime(df[\"Date of Journey\"],format = \"%d/%m/%Y\")\n",
    "#Create a new column Days_left which is the no of days before the journey, booking was done\n",
    "\n",
    "df[\"Days_left\"] = [int(i.days) for i in (df['Date of Journey'] - df['Date of Booking'])]\n",
    "#drop the columns which are no longer needed\n",
    "\n",
    "df.drop([\"Date of Booking\",\"Airline-Class\",\"Departure Time\",\"Arrival Time\"],axis=1,inplace=True)\n",
    "#create a new column journey_day\n",
    "df[\"Journey_day\"] = df[\"Date of Journey\"].dt.day_name()\n",
    "#convert the departure and arrival columns to time \n",
    "df[\"Departure\"]=pd.to_datetime(df['Departure'], format = '%H:%M').dt.time\n",
    "df[\"Arrival\"] = pd.to_datetime(df[\"Arrival\"],format = \"%H:%M\").dt.time"
   ]
  },
  {
   "cell_type": "code",
   "execution_count": 6,
   "id": "7f98676c",
   "metadata": {},
   "outputs": [],
   "source": [
    "def get_hr(time):\n",
    "  h,m,s = time.split(':')\n",
    "  return int(h)\n",
    "#apply the function \n",
    "df[\"Departure\"] = df[\"Departure\"].apply(lambda x:str(x))\n",
    "df[\"Departure\"] = df[\"Departure\"].apply(lambda x:get_hr(x))\n",
    "df[\"Arrival\"] = df[\"Arrival\"].apply(lambda x:str(x))\n",
    "df[\"Arrival\"] = df[\"Arrival\"].apply(lambda x:get_hr(x))\n",
    "def get_part_of_day(hour):\n",
    "  return(\n",
    "      \"Early Morning\" if 0<= hour <5\n",
    "      else\n",
    "      \"Morning\" if 5<= hour <12\n",
    "      else\n",
    "      \"Afternoon\" if 12<= hour <16\n",
    "      else\n",
    "      \"Evening\"   if 16<=hour<19\n",
    "      else\n",
    "      \"Night\" if 19<=hour<22\n",
    "      else\n",
    "      \"Late Night\" \n",
    "  )\n"
   ]
  },
  {
   "cell_type": "code",
   "execution_count": 7,
   "id": "7df673d2",
   "metadata": {},
   "outputs": [],
   "source": [
    "#Create 2 new columns indicating which part of the day arrival and departure happens\n",
    "\n",
    "df[\"Dep\"] = df[\"Departure\"].apply(lambda x:get_part_of_day(x))\n",
    "df[\"Arr\"] = df[\"Arrival\"].apply(lambda x:get_part_of_day(x))\n",
    "#create route column combining source and destination\n",
    "df[\"Route\"] = df[\"Source\"]+\"-->\"+df[\"Destination\"]\n",
    "#Convert price to numeric datatype\n",
    "df[\"Price\"]=df[\"Price\"].str.replace(',',\"\")\n",
    "df[\"Price\"] = pd.to_numeric(df[\"Price\"])\n",
    "#Create duration_in_hrs column\n",
    "df[\"Duration\"] = df[\"Duration\"].str.replace(\"h \",\":\")\n",
    "df[\"Duration\"] = df[\"Duration\"].str.replace(\"m\",\"\")\n",
    "df[[\"hrs\",\"min\"]] = df[\"Duration\"].str.split(\":\",expand=True)\n",
    "df[\"hrs\"] = pd.to_numeric(df[\"hrs\"])\n",
    "df[\"min\"] = pd.to_numeric(df[\"min\"])\n",
    "df[\"Duration_in_hrs\"] = df[\"hrs\"] + df[\"min\"]/60"
   ]
  },
  {
   "cell_type": "code",
   "execution_count": 8,
   "id": "4ef31ffd",
   "metadata": {},
   "outputs": [
    {
     "data": {
      "text/html": [
       "<div>\n",
       "<style scoped>\n",
       "    .dataframe tbody tr th:only-of-type {\n",
       "        vertical-align: middle;\n",
       "    }\n",
       "\n",
       "    .dataframe tbody tr th {\n",
       "        vertical-align: top;\n",
       "    }\n",
       "\n",
       "    .dataframe thead th {\n",
       "        text-align: right;\n",
       "    }\n",
       "</style>\n",
       "<table border=\"1\" class=\"dataframe\">\n",
       "  <thead>\n",
       "    <tr style=\"text-align: right;\">\n",
       "      <th></th>\n",
       "      <th>Date of Journey</th>\n",
       "      <th>Total Stops</th>\n",
       "      <th>Price</th>\n",
       "      <th>Airline</th>\n",
       "      <th>Flight_Code</th>\n",
       "      <th>Class</th>\n",
       "      <th>Source</th>\n",
       "      <th>Destination</th>\n",
       "      <th>Days_left</th>\n",
       "      <th>Journey_day</th>\n",
       "      <th>Dep</th>\n",
       "      <th>Arr</th>\n",
       "      <th>Route</th>\n",
       "      <th>Duration_in_hrs</th>\n",
       "    </tr>\n",
       "  </thead>\n",
       "  <tbody>\n",
       "    <tr>\n",
       "      <th>0</th>\n",
       "      <td>2023-01-16</td>\n",
       "      <td>non-stop</td>\n",
       "      <td>5335</td>\n",
       "      <td>SpiceJet</td>\n",
       "      <td>SG-8169</td>\n",
       "      <td>ECONOMY</td>\n",
       "      <td>Delhi</td>\n",
       "      <td>Mumbai</td>\n",
       "      <td>1</td>\n",
       "      <td>Monday</td>\n",
       "      <td>Night</td>\n",
       "      <td>Late Night</td>\n",
       "      <td>Delhi--&gt;Mumbai</td>\n",
       "      <td>2.083333</td>\n",
       "    </tr>\n",
       "    <tr>\n",
       "      <th>1</th>\n",
       "      <td>2023-01-16</td>\n",
       "      <td>non-stop</td>\n",
       "      <td>5899</td>\n",
       "      <td>Indigo</td>\n",
       "      <td>6E-2519</td>\n",
       "      <td>ECONOMY</td>\n",
       "      <td>Delhi</td>\n",
       "      <td>Mumbai</td>\n",
       "      <td>1</td>\n",
       "      <td>Monday</td>\n",
       "      <td>Late Night</td>\n",
       "      <td>Early Morning</td>\n",
       "      <td>Delhi--&gt;Mumbai</td>\n",
       "      <td>2.333333</td>\n",
       "    </tr>\n",
       "    <tr>\n",
       "      <th>2</th>\n",
       "      <td>2023-01-16</td>\n",
       "      <td>non-stop</td>\n",
       "      <td>5801</td>\n",
       "      <td>GO FIRST</td>\n",
       "      <td>G8- 354</td>\n",
       "      <td>ECONOMY</td>\n",
       "      <td>Delhi</td>\n",
       "      <td>Mumbai</td>\n",
       "      <td>1</td>\n",
       "      <td>Monday</td>\n",
       "      <td>Late Night</td>\n",
       "      <td>Early Morning</td>\n",
       "      <td>Delhi--&gt;Mumbai</td>\n",
       "      <td>2.166667</td>\n",
       "    </tr>\n",
       "  </tbody>\n",
       "</table>\n",
       "</div>"
      ],
      "text/plain": [
       "  Date of Journey Total Stops  Price    Airline Flight_Code    Class Source  \\\n",
       "0      2023-01-16    non-stop   5335  SpiceJet      SG-8169  ECONOMY  Delhi   \n",
       "1      2023-01-16    non-stop   5899    Indigo      6E-2519  ECONOMY  Delhi   \n",
       "2      2023-01-16    non-stop   5801  GO FIRST      G8- 354  ECONOMY  Delhi   \n",
       "\n",
       "  Destination  Days_left Journey_day         Dep            Arr  \\\n",
       "0      Mumbai          1      Monday       Night     Late Night   \n",
       "1      Mumbai          1      Monday  Late Night  Early Morning   \n",
       "2      Mumbai          1      Monday  Late Night  Early Morning   \n",
       "\n",
       "            Route  Duration_in_hrs  \n",
       "0  Delhi-->Mumbai         2.083333  \n",
       "1  Delhi-->Mumbai         2.333333  \n",
       "2  Delhi-->Mumbai         2.166667  "
      ]
     },
     "execution_count": 8,
     "metadata": {},
     "output_type": "execute_result"
    }
   ],
   "source": [
    "df.drop([\"Duration\",\"hrs\",\"min\",\"Departure\",\"Arrival\"],axis=1,inplace=True)\n",
    "df.head(3)"
   ]
  },
  {
   "cell_type": "code",
   "execution_count": 9,
   "id": "50facd63",
   "metadata": {},
   "outputs": [
    {
     "data": {
      "text/plain": [
       "6722"
      ]
     },
     "execution_count": 9,
     "metadata": {},
     "output_type": "execute_result"
    }
   ],
   "source": [
    "\n",
    "#Checking duplicates\n",
    "df.duplicated().sum()"
   ]
  },
  {
   "cell_type": "code",
   "execution_count": 10,
   "id": "e6d91da3",
   "metadata": {},
   "outputs": [
    {
     "data": {
      "text/plain": [
       "0"
      ]
     },
     "execution_count": 10,
     "metadata": {},
     "output_type": "execute_result"
    }
   ],
   "source": [
    "df = df.drop_duplicates()\n",
    "#Again let's check\n",
    "df.duplicated().sum()"
   ]
  },
  {
   "cell_type": "code",
   "execution_count": 11,
   "id": "36c110dc",
   "metadata": {},
   "outputs": [
    {
     "data": {
      "text/plain": [
       "1-stop                                          363894\n",
       "non-stop                                         51755\n",
       "2+-stop                                          27084\n",
       "1-stop\\n\\t\\t\\t\\t\\t\\t\\t\\t\\t\\t\\t\\tVia IDR           1457\n",
       "1-stop\\n\\t\\t\\t\\t\\t\\t\\t\\t\\t\\t\\t\\tVia Indore         314\n",
       "1-stop\\n\\t\\t\\t\\t\\t\\t\\t\\t\\t\\t\\t\\tVia Delhi          279\n",
       "1-stop\\n\\t\\t\\t\\t\\t\\t\\t\\t\\t\\t\\t\\tVia Pune           246\n",
       "1-stop\\n\\t\\t\\t\\t\\t\\t\\t\\t\\t\\t\\t\\tVia Guwahati        85\n",
       "1-stop\\n\\t\\t\\t\\t\\t\\t\\t\\t\\t\\t\\t\\tVia RPR             84\n",
       "1-stop\\n\\t\\t\\t\\t\\t\\t\\t\\t\\t\\t\\t\\tVia PNQ             65\n",
       "1-stop\\n\\t\\t\\t\\t\\t\\t\\t\\t\\t\\t\\t\\tVia Mumbai          48\n",
       "1-stop\\n\\t\\t\\t\\t\\t\\t\\t\\t\\t\\t\\t\\tVia VTZ             44\n",
       "1-stop\\n\\t\\t\\t\\t\\t\\t\\t\\t\\t\\t\\t\\tVia DIB             11\n",
       "Name: Total Stops, dtype: int64"
      ]
     },
     "execution_count": 11,
     "metadata": {},
     "output_type": "execute_result"
    }
   ],
   "source": [
    "df[\"Total Stops\"].value_counts()"
   ]
  },
  {
   "cell_type": "code",
   "execution_count": 12,
   "id": "1a5e8083",
   "metadata": {},
   "outputs": [
    {
     "data": {
      "text/plain": [
       "1-stop    366527\n",
       "non-st     51755\n",
       "2+-sto     27084\n",
       "Name: Total Stops, dtype: int64"
      ]
     },
     "execution_count": 12,
     "metadata": {},
     "output_type": "execute_result"
    }
   ],
   "source": [
    "df[\"Total Stops\"] = df[\"Total Stops\"].apply(lambda x:x[0:6])\n",
    "#Check again\n",
    "df[\"Total Stops\"].value_counts()"
   ]
  },
  {
   "cell_type": "code",
   "execution_count": 13,
   "id": "1787e4f0",
   "metadata": {},
   "outputs": [
    {
     "data": {
      "text/plain": [
       "count    445366.000000\n",
       "mean      22919.747165\n",
       "std       20394.214040\n",
       "min        1307.000000\n",
       "25%        8712.000000\n",
       "50%       13362.000000\n",
       "75%       36980.000000\n",
       "max      143019.000000\n",
       "Name: Price, dtype: float64"
      ]
     },
     "execution_count": 13,
     "metadata": {},
     "output_type": "execute_result"
    }
   ],
   "source": [
    "df[\"Price\"].describe()"
   ]
  },
  {
   "cell_type": "code",
   "execution_count": 14,
   "id": "8d56d0d1",
   "metadata": {},
   "outputs": [
    {
     "data": {
      "text/plain": [
       "Text(0.5, 1.0, 'Price-BoxPlot')"
      ]
     },
     "execution_count": 14,
     "metadata": {},
     "output_type": "execute_result"
    },
    {
     "data": {
      "image/png": "[encoded data removed]",
      "text/plain": [
       "<Figure size 432x288 with 1 Axes>"
      ]
     },
     "metadata": {
      "needs_background": "light"
     },
     "output_type": "display_data"
    }
   ],
   "source": [
    "sns.boxplot(data=df, x='Price',color=\"green\")\n",
    "plt.title('Price-BoxPlot')"
   ]
  },
  {
   "cell_type": "code",
   "execution_count": 15,
   "id": "7ed42735",
   "metadata": {},
   "outputs": [
    {
     "data": {
      "text/plain": [
       "Text(0.5, 1.0, 'Distribution of Price')"
      ]
     },
     "execution_count": 15,
     "metadata": {},
     "output_type": "execute_result"
    },
    {
     "data": {
      "image/png": "[encoded data removed]",
      "text/plain": [
       "<Figure size 432x288 with 1 Axes>"
      ]
     },
     "metadata": {
      "needs_background": "light"
     },
     "output_type": "display_data"
    }
   ],
   "source": [
    "sns.histplot(data=df, x=\"Price\",kde=True,color='green')\n",
    "plt.title('Distribution of Price')"
   ]
  },
  {
   "cell_type": "code",
   "execution_count": 16,
   "id": "c9455a03",
   "metadata": {},
   "outputs": [
    {
     "data": {
      "text/plain": [
       "count    445366.000000\n",
       "mean         12.182491\n",
       "std           7.299361\n",
       "min           0.750000\n",
       "25%           6.500000\n",
       "50%          11.250000\n",
       "75%          16.333333\n",
       "max          43.583333\n",
       "Name: Duration_in_hrs, dtype: float64"
      ]
     },
     "execution_count": 16,
     "metadata": {},
     "output_type": "execute_result"
    }
   ],
   "source": [
    "df[\"Duration_in_hrs\"].describe()"
   ]
  },
  {
   "cell_type": "code",
   "execution_count": 17,
   "id": "b25d354f",
   "metadata": {},
   "outputs": [
    {
     "data": {
      "text/plain": [
       "Text(0.5, 1.0, 'Duration-ViolinPlot')"
      ]
     },
     "execution_count": 17,
     "metadata": {},
     "output_type": "execute_result"
    },
    {
     "data": {
      "image/png": "[encoded data removed]",
      "text/plain": [
       "<Figure size 432x288 with 1 Axes>"
      ]
     },
     "metadata": {
      "needs_background": "light"
     },
     "output_type": "display_data"
    }
   ],
   "source": [
    "sns.violinplot(data=df, y='Duration_in_hrs',color=\"green\")\n",
    "\n",
    "plt.title(\"Duration-ViolinPlot\")"
   ]
  },
  {
   "cell_type": "code",
   "execution_count": 18,
   "id": "cda05446",
   "metadata": {},
   "outputs": [
    {
     "data": {
      "text/html": [
       "<div>\n",
       "<style scoped>\n",
       "    .dataframe tbody tr th:only-of-type {\n",
       "        vertical-align: middle;\n",
       "    }\n",
       "\n",
       "    .dataframe tbody tr th {\n",
       "        vertical-align: top;\n",
       "    }\n",
       "\n",
       "    .dataframe thead th {\n",
       "        text-align: right;\n",
       "    }\n",
       "</style>\n",
       "<table border=\"1\" class=\"dataframe\">\n",
       "  <thead>\n",
       "    <tr style=\"text-align: right;\">\n",
       "      <th></th>\n",
       "      <th>Date of Journey</th>\n",
       "      <th>Total Stops</th>\n",
       "      <th>Price</th>\n",
       "      <th>Airline</th>\n",
       "      <th>Flight_Code</th>\n",
       "      <th>Class</th>\n",
       "      <th>Source</th>\n",
       "      <th>Destination</th>\n",
       "      <th>Days_left</th>\n",
       "      <th>Journey_day</th>\n",
       "      <th>Dep</th>\n",
       "      <th>Arr</th>\n",
       "      <th>Route</th>\n",
       "      <th>Duration_in_hrs</th>\n",
       "    </tr>\n",
       "  </thead>\n",
       "  <tbody>\n",
       "    <tr>\n",
       "      <th>36912</th>\n",
       "      <td>2023-01-16</td>\n",
       "      <td>2+-sto</td>\n",
       "      <td>30424</td>\n",
       "      <td>Vistara</td>\n",
       "      <td>UK-959</td>\n",
       "      <td>PREMIUMECONOMY</td>\n",
       "      <td>Delhi</td>\n",
       "      <td>Hyderabad</td>\n",
       "      <td>1</td>\n",
       "      <td>Monday</td>\n",
       "      <td>Morning</td>\n",
       "      <td>Early Morning</td>\n",
       "      <td>Delhi--&gt;Hyderabad</td>\n",
       "      <td>41.583333</td>\n",
       "    </tr>\n",
       "    <tr>\n",
       "      <th>38208</th>\n",
       "      <td>2023-01-21</td>\n",
       "      <td>2+-sto</td>\n",
       "      <td>20270</td>\n",
       "      <td>Vistara</td>\n",
       "      <td>UK-959</td>\n",
       "      <td>PREMIUMECONOMY</td>\n",
       "      <td>Delhi</td>\n",
       "      <td>Hyderabad</td>\n",
       "      <td>6</td>\n",
       "      <td>Saturday</td>\n",
       "      <td>Morning</td>\n",
       "      <td>Early Morning</td>\n",
       "      <td>Delhi--&gt;Hyderabad</td>\n",
       "      <td>41.583333</td>\n",
       "    </tr>\n",
       "    <tr>\n",
       "      <th>38471</th>\n",
       "      <td>2023-01-22</td>\n",
       "      <td>2+-sto</td>\n",
       "      <td>18702</td>\n",
       "      <td>Vistara</td>\n",
       "      <td>UK-959</td>\n",
       "      <td>PREMIUMECONOMY</td>\n",
       "      <td>Delhi</td>\n",
       "      <td>Hyderabad</td>\n",
       "      <td>7</td>\n",
       "      <td>Sunday</td>\n",
       "      <td>Morning</td>\n",
       "      <td>Early Morning</td>\n",
       "      <td>Delhi--&gt;Hyderabad</td>\n",
       "      <td>41.583333</td>\n",
       "    </tr>\n",
       "  </tbody>\n",
       "</table>\n",
       "</div>"
      ],
      "text/plain": [
       "      Date of Journey Total Stops  Price   Airline Flight_Code  \\\n",
       "36912      2023-01-16      2+-sto  30424  Vistara       UK-959   \n",
       "38208      2023-01-21      2+-sto  20270  Vistara       UK-959   \n",
       "38471      2023-01-22      2+-sto  18702  Vistara       UK-959   \n",
       "\n",
       "                Class Source Destination  Days_left Journey_day      Dep  \\\n",
       "36912  PREMIUMECONOMY  Delhi   Hyderabad          1      Monday  Morning   \n",
       "38208  PREMIUMECONOMY  Delhi   Hyderabad          6    Saturday  Morning   \n",
       "38471  PREMIUMECONOMY  Delhi   Hyderabad          7      Sunday  Morning   \n",
       "\n",
       "                 Arr              Route  Duration_in_hrs  \n",
       "36912  Early Morning  Delhi-->Hyderabad        41.583333  \n",
       "38208  Early Morning  Delhi-->Hyderabad        41.583333  \n",
       "38471  Early Morning  Delhi-->Hyderabad        41.583333  "
      ]
     },
     "execution_count": 18,
     "metadata": {},
     "output_type": "execute_result"
    }
   ],
   "source": [
    "df.loc[df['Duration_in_hrs']>40].head(3)"
   ]
  },
  {
   "cell_type": "code",
   "execution_count": 19,
   "id": "8e43dabc",
   "metadata": {},
   "outputs": [
    {
     "data": {
      "text/html": [
       "<div>\n",
       "<style scoped>\n",
       "    .dataframe tbody tr th:only-of-type {\n",
       "        vertical-align: middle;\n",
       "    }\n",
       "\n",
       "    .dataframe tbody tr th {\n",
       "        vertical-align: top;\n",
       "    }\n",
       "\n",
       "    .dataframe thead th {\n",
       "        text-align: right;\n",
       "    }\n",
       "</style>\n",
       "<table border=\"1\" class=\"dataframe\">\n",
       "  <thead>\n",
       "    <tr style=\"text-align: right;\">\n",
       "      <th></th>\n",
       "      <th></th>\n",
       "      <th></th>\n",
       "      <th>min</th>\n",
       "      <th>mean</th>\n",
       "      <th>max</th>\n",
       "    </tr>\n",
       "    <tr>\n",
       "      <th>Route</th>\n",
       "      <th>Class</th>\n",
       "      <th>Total Stops</th>\n",
       "      <th></th>\n",
       "      <th></th>\n",
       "      <th></th>\n",
       "    </tr>\n",
       "  </thead>\n",
       "  <tbody>\n",
       "    <tr>\n",
       "      <th rowspan=\"5\" valign=\"top\">Ahmedabad--&gt;Bangalore</th>\n",
       "      <th rowspan=\"2\" valign=\"top\">BUSINESS</th>\n",
       "      <th>1-stop</th>\n",
       "      <td>3.666667</td>\n",
       "      <td>14.540577</td>\n",
       "      <td>29.750000</td>\n",
       "    </tr>\n",
       "    <tr>\n",
       "      <th>2+-sto</th>\n",
       "      <td>13.416667</td>\n",
       "      <td>13.416667</td>\n",
       "      <td>13.416667</td>\n",
       "    </tr>\n",
       "    <tr>\n",
       "      <th rowspan=\"3\" valign=\"top\">ECONOMY</th>\n",
       "      <th>1-stop</th>\n",
       "      <td>3.666667</td>\n",
       "      <td>12.415107</td>\n",
       "      <td>42.083333</td>\n",
       "    </tr>\n",
       "    <tr>\n",
       "      <th>2+-sto</th>\n",
       "      <td>7.250000</td>\n",
       "      <td>14.285714</td>\n",
       "      <td>28.333333</td>\n",
       "    </tr>\n",
       "    <tr>\n",
       "      <th>non-st</th>\n",
       "      <td>2.000000</td>\n",
       "      <td>2.177963</td>\n",
       "      <td>2.500000</td>\n",
       "    </tr>\n",
       "    <tr>\n",
       "      <th>...</th>\n",
       "      <th>...</th>\n",
       "      <th>...</th>\n",
       "      <td>...</td>\n",
       "      <td>...</td>\n",
       "      <td>...</td>\n",
       "    </tr>\n",
       "    <tr>\n",
       "      <th rowspan=\"5\" valign=\"top\">Mumbai--&gt;Kolkata</th>\n",
       "      <th rowspan=\"2\" valign=\"top\">ECONOMY</th>\n",
       "      <th>2+-sto</th>\n",
       "      <td>5.500000</td>\n",
       "      <td>18.109231</td>\n",
       "      <td>35.916667</td>\n",
       "    </tr>\n",
       "    <tr>\n",
       "      <th>non-st</th>\n",
       "      <td>2.333333</td>\n",
       "      <td>2.656190</td>\n",
       "      <td>3.083333</td>\n",
       "    </tr>\n",
       "    <tr>\n",
       "      <th rowspan=\"3\" valign=\"top\">PREMIUMECONOMY</th>\n",
       "      <th>1-stop</th>\n",
       "      <td>4.750000</td>\n",
       "      <td>12.234848</td>\n",
       "      <td>27.583333</td>\n",
       "    </tr>\n",
       "    <tr>\n",
       "      <th>2+-sto</th>\n",
       "      <td>7.583333</td>\n",
       "      <td>20.317179</td>\n",
       "      <td>40.333333</td>\n",
       "    </tr>\n",
       "    <tr>\n",
       "      <th>non-st</th>\n",
       "      <td>2.750000</td>\n",
       "      <td>2.750000</td>\n",
       "      <td>2.750000</td>\n",
       "    </tr>\n",
       "  </tbody>\n",
       "</table>\n",
       "<p>320 rows × 3 columns</p>\n",
       "</div>"
      ],
      "text/plain": [
       "                                                        min       mean  \\\n",
       "Route                 Class          Total Stops                         \n",
       "Ahmedabad-->Bangalore BUSINESS       1-stop        3.666667  14.540577   \n",
       "                                     2+-sto       13.416667  13.416667   \n",
       "                      ECONOMY        1-stop        3.666667  12.415107   \n",
       "                                     2+-sto        7.250000  14.285714   \n",
       "                                     non-st        2.000000   2.177963   \n",
       "...                                                     ...        ...   \n",
       "Mumbai-->Kolkata      ECONOMY        2+-sto        5.500000  18.109231   \n",
       "                                     non-st        2.333333   2.656190   \n",
       "                      PREMIUMECONOMY 1-stop        4.750000  12.234848   \n",
       "                                     2+-sto        7.583333  20.317179   \n",
       "                                     non-st        2.750000   2.750000   \n",
       "\n",
       "                                                        max  \n",
       "Route                 Class          Total Stops             \n",
       "Ahmedabad-->Bangalore BUSINESS       1-stop       29.750000  \n",
       "                                     2+-sto       13.416667  \n",
       "                      ECONOMY        1-stop       42.083333  \n",
       "                                     2+-sto       28.333333  \n",
       "                                     non-st        2.500000  \n",
       "...                                                     ...  \n",
       "Mumbai-->Kolkata      ECONOMY        2+-sto       35.916667  \n",
       "                                     non-st        3.083333  \n",
       "                      PREMIUMECONOMY 1-stop       27.583333  \n",
       "                                     2+-sto       40.333333  \n",
       "                                     non-st        2.750000  \n",
       "\n",
       "[320 rows x 3 columns]"
      ]
     },
     "execution_count": 19,
     "metadata": {},
     "output_type": "execute_result"
    }
   ],
   "source": [
    "df.groupby([\"Route\",\"Class\",\"Total Stops\"])['Duration_in_hrs'].agg(['min','mean','max'])\n"
   ]
  },
  {
   "cell_type": "code",
   "execution_count": 20,
   "id": "74d2ec67",
   "metadata": {},
   "outputs": [
    {
     "data": {
      "text/html": [
       "<div>\n",
       "<style scoped>\n",
       "    .dataframe tbody tr th:only-of-type {\n",
       "        vertical-align: middle;\n",
       "    }\n",
       "\n",
       "    .dataframe tbody tr th {\n",
       "        vertical-align: top;\n",
       "    }\n",
       "\n",
       "    .dataframe thead th {\n",
       "        text-align: right;\n",
       "    }\n",
       "</style>\n",
       "<table border=\"1\" class=\"dataframe\">\n",
       "  <thead>\n",
       "    <tr style=\"text-align: right;\">\n",
       "      <th></th>\n",
       "      <th>Route</th>\n",
       "      <th>75%</th>\n",
       "    </tr>\n",
       "  </thead>\n",
       "  <tbody>\n",
       "    <tr>\n",
       "      <th>0</th>\n",
       "      <td>Ahmedabad--&gt;Bangalore</td>\n",
       "      <td>15.916667</td>\n",
       "    </tr>\n",
       "    <tr>\n",
       "      <th>1</th>\n",
       "      <td>Ahmedabad--&gt;Chennai</td>\n",
       "      <td>18.833333</td>\n",
       "    </tr>\n",
       "    <tr>\n",
       "      <th>2</th>\n",
       "      <td>Ahmedabad--&gt;Delhi</td>\n",
       "      <td>15.583333</td>\n",
       "    </tr>\n",
       "  </tbody>\n",
       "</table>\n",
       "</div>"
      ],
      "text/plain": [
       "                   Route        75%\n",
       "0  Ahmedabad-->Bangalore  15.916667\n",
       "1    Ahmedabad-->Chennai  18.833333\n",
       "2      Ahmedabad-->Delhi  15.583333"
      ]
     },
     "execution_count": 20,
     "metadata": {},
     "output_type": "execute_result"
    }
   ],
   "source": [
    "data=df.groupby([\"Route\"])['Duration_in_hrs'].describe().reset_index()[['Route','75%']]\n",
    "data.head(3)"
   ]
  },
  {
   "cell_type": "code",
   "execution_count": 21,
   "id": "14157267",
   "metadata": {},
   "outputs": [
    {
     "data": {
      "text/html": [
       "<div>\n",
       "<style scoped>\n",
       "    .dataframe tbody tr th:only-of-type {\n",
       "        vertical-align: middle;\n",
       "    }\n",
       "\n",
       "    .dataframe tbody tr th {\n",
       "        vertical-align: top;\n",
       "    }\n",
       "\n",
       "    .dataframe thead th {\n",
       "        text-align: right;\n",
       "    }\n",
       "</style>\n",
       "<table border=\"1\" class=\"dataframe\">\n",
       "  <thead>\n",
       "    <tr style=\"text-align: right;\">\n",
       "      <th></th>\n",
       "      <th>Date of Journey</th>\n",
       "      <th>Total Stops</th>\n",
       "      <th>Price</th>\n",
       "      <th>Airline</th>\n",
       "      <th>Flight_Code</th>\n",
       "      <th>Class</th>\n",
       "      <th>Source</th>\n",
       "      <th>Destination</th>\n",
       "      <th>Days_left</th>\n",
       "      <th>Journey_day</th>\n",
       "      <th>Dep</th>\n",
       "      <th>Arr</th>\n",
       "      <th>Route</th>\n",
       "      <th>Duration_in_hrs</th>\n",
       "      <th>75%</th>\n",
       "    </tr>\n",
       "  </thead>\n",
       "  <tbody>\n",
       "    <tr>\n",
       "      <th>0</th>\n",
       "      <td>2023-01-16</td>\n",
       "      <td>non-st</td>\n",
       "      <td>5335</td>\n",
       "      <td>SpiceJet</td>\n",
       "      <td>SG-8169</td>\n",
       "      <td>ECONOMY</td>\n",
       "      <td>Delhi</td>\n",
       "      <td>Mumbai</td>\n",
       "      <td>1</td>\n",
       "      <td>Monday</td>\n",
       "      <td>Night</td>\n",
       "      <td>Late Night</td>\n",
       "      <td>Delhi--&gt;Mumbai</td>\n",
       "      <td>2.083333</td>\n",
       "      <td>14.25</td>\n",
       "    </tr>\n",
       "    <tr>\n",
       "      <th>1</th>\n",
       "      <td>2023-01-16</td>\n",
       "      <td>non-st</td>\n",
       "      <td>5899</td>\n",
       "      <td>Indigo</td>\n",
       "      <td>6E-2519</td>\n",
       "      <td>ECONOMY</td>\n",
       "      <td>Delhi</td>\n",
       "      <td>Mumbai</td>\n",
       "      <td>1</td>\n",
       "      <td>Monday</td>\n",
       "      <td>Late Night</td>\n",
       "      <td>Early Morning</td>\n",
       "      <td>Delhi--&gt;Mumbai</td>\n",
       "      <td>2.333333</td>\n",
       "      <td>14.25</td>\n",
       "    </tr>\n",
       "    <tr>\n",
       "      <th>2</th>\n",
       "      <td>2023-01-16</td>\n",
       "      <td>non-st</td>\n",
       "      <td>5801</td>\n",
       "      <td>GO FIRST</td>\n",
       "      <td>G8- 354</td>\n",
       "      <td>ECONOMY</td>\n",
       "      <td>Delhi</td>\n",
       "      <td>Mumbai</td>\n",
       "      <td>1</td>\n",
       "      <td>Monday</td>\n",
       "      <td>Late Night</td>\n",
       "      <td>Early Morning</td>\n",
       "      <td>Delhi--&gt;Mumbai</td>\n",
       "      <td>2.166667</td>\n",
       "      <td>14.25</td>\n",
       "    </tr>\n",
       "  </tbody>\n",
       "</table>\n",
       "</div>"
      ],
      "text/plain": [
       "  Date of Journey Total Stops  Price    Airline Flight_Code    Class Source  \\\n",
       "0      2023-01-16      non-st   5335  SpiceJet      SG-8169  ECONOMY  Delhi   \n",
       "1      2023-01-16      non-st   5899    Indigo      6E-2519  ECONOMY  Delhi   \n",
       "2      2023-01-16      non-st   5801  GO FIRST      G8- 354  ECONOMY  Delhi   \n",
       "\n",
       "  Destination  Days_left Journey_day         Dep            Arr  \\\n",
       "0      Mumbai          1      Monday       Night     Late Night   \n",
       "1      Mumbai          1      Monday  Late Night  Early Morning   \n",
       "2      Mumbai          1      Monday  Late Night  Early Morning   \n",
       "\n",
       "            Route  Duration_in_hrs    75%  \n",
       "0  Delhi-->Mumbai         2.083333  14.25  \n",
       "1  Delhi-->Mumbai         2.333333  14.25  \n",
       "2  Delhi-->Mumbai         2.166667  14.25  "
      ]
     },
     "execution_count": 21,
     "metadata": {},
     "output_type": "execute_result"
    }
   ],
   "source": [
    "df_new = df.merge(data,on=\"Route\",how=\"left\")\n",
    "df_new.head(3)"
   ]
  },
  {
   "cell_type": "code",
   "execution_count": 22,
   "id": "2552d949",
   "metadata": {},
   "outputs": [],
   "source": [
    "mask = df_new['Duration_in_hrs']>df_new['75%']\n",
    "df_new.loc[mask,'Duration_in_hrs'] = df_new['75%']"
   ]
  },
  {
   "cell_type": "code",
   "execution_count": 23,
   "id": "92e6cf3a",
   "metadata": {},
   "outputs": [
    {
     "data": {
      "text/plain": [
       "Text(0.5, 1.0, 'Duration-Boxplot')"
      ]
     },
     "execution_count": 23,
     "metadata": {},
     "output_type": "execute_result"
    },
    {
     "data": {
      "image/png": "[encoded data removed]",
      "text/plain": [
       "<Figure size 432x288 with 1 Axes>"
      ]
     },
     "metadata": {
      "needs_background": "light"
     },
     "output_type": "display_data"
    }
   ],
   "source": [
    "sns.boxplot(data=df_new, x=\"Duration_in_hrs\",color=\"green\")\n",
    "plt.title('Duration-Boxplot')"
   ]
  },
  {
   "cell_type": "code",
   "execution_count": 24,
   "id": "ad204bc9",
   "metadata": {},
   "outputs": [],
   "source": [
    "# df_new.drop(['Flight_Code','75%'],axis=1,inplace=True)\n",
    "# df_new.columns\n",
    "\n",
    "# sns.lineplot(data=df_new, x='Date of Journey', y=\"Price\",hue=\"Class\")\n",
    "# plt.xticks(rotation=90)\n",
    "# plt.legend(fontsize=6)\n",
    "# plt.show()"
   ]
  },
  {
   "cell_type": "code",
   "execution_count": null,
   "id": "c980524d",
   "metadata": {},
   "outputs": [],
   "source": []
  },
  {
   "cell_type": "code",
   "execution_count": 25,
   "id": "9d93ee91",
   "metadata": {},
   "outputs": [],
   "source": [
    "# df_new[\"Class\"].value_counts().plot(kind=\"pie\",autopct=\"%1.1f%%\",shadow=True)\n",
    "# plt.legend(fontsize=6,loc=1)\n",
    "# plt.show()"
   ]
  },
  {
   "cell_type": "code",
   "execution_count": 26,
   "id": "9593ce39",
   "metadata": {},
   "outputs": [
    {
     "data": {
      "image/png": "[encoded data removed]",
      "text/plain": [
       "<Figure size 1440x360 with 5 Axes>"
      ]
     },
     "metadata": {
      "needs_background": "light"
     },
     "output_type": "display_data"
    }
   ],
   "source": [
    "#plotting all plots in same line\n",
    "fig,ax = plt.subplots(1,5,figsize=(20,5))\n",
    "\n",
    "#Adjusting the space in betweeen\n",
    "fig.subplots_adjust(wspace=0.4)\n",
    "\n",
    "#subplot1- Source\n",
    "plt.subplot(1,5,1)\n",
    "sns.countplot(x='Source',data=df_new,color=\"yellow\")\n",
    "plt.title(\"Source City\")\n",
    "plt.xticks(rotation=90)\n",
    "\n",
    "#subplot2 = Destination\n",
    "plt.subplot(1,5,2)\n",
    "sns.countplot(x='Destination',data=df_new,color=\"orange\")\n",
    "plt.title(\"Destination City\")\n",
    "plt.xticks(rotation=90)\n",
    "\n",
    "#subplot3 = Airline\n",
    "plt.subplot(1,5,3)\n",
    "sns.countplot(x='Airline',data=df_new,color=\"red\")\n",
    "plt.title(\"Airline\")\n",
    "plt.xticks(rotation=90)\n",
    "\n",
    "#subplot4 = Arrival Time\n",
    "plt.subplot(1,5,4)\n",
    "sns.countplot(x='Arr',data=df_new,color=\"green\")\n",
    "plt.title(\"Arrival Time\")\n",
    "plt.xlabel(\"Time\")\n",
    "plt.xticks(rotation=90)\n",
    "\n",
    "#subplot5 = Departure Time\n",
    "plt.subplot(1,5,5)\n",
    "sns.countplot(x='Dep',data=df_new,color=\"purple\")\n",
    "plt.title(\"Departure Time\")\n",
    "plt.xlabel(\"Time\")\n",
    "plt.xticks(rotation=90)\n",
    "\n",
    "plt.show()\n"
   ]
  },
  {
   "cell_type": "code",
   "execution_count": 27,
   "id": "940c09ea",
   "metadata": {},
   "outputs": [
    {
     "data": {
      "text/plain": [
       "Delhi-->Mumbai       19113\n",
       "Delhi-->Bangalore    17508\n",
       "Bangalore-->Delhi    17368\n",
       "Name: Route, dtype: int64"
      ]
     },
     "execution_count": 27,
     "metadata": {},
     "output_type": "execute_result"
    }
   ],
   "source": [
    "df_new[\"Route\"].value_counts().head(3)"
   ]
  },
  {
   "cell_type": "code",
   "execution_count": 28,
   "id": "444875d8",
   "metadata": {},
   "outputs": [
    {
     "data": {
      "image/png": "[encoded data removed]",
      "text/plain": [
       "<Figure size 432x360 with 1 Axes>"
      ]
     },
     "metadata": {
      "needs_background": "light"
     },
     "output_type": "display_data"
    }
   ],
   "source": [
    "plt.figure(figsize=(6,5))\n",
    "sns.barplot(data=df_new[df_new[\"Route\"]==\"Delhi-->Mumbai\"], x=\"Airline\",y=\"Price\",hue=\"Class\")\n",
    "plt.legend(loc=(1,1),fontsize=5)\n",
    "plt.xticks(rotation=90)\n",
    "plt.show()"
   ]
  },
  {
   "cell_type": "code",
   "execution_count": 29,
   "id": "f52d540e",
   "metadata": {},
   "outputs": [
    {
     "data": {
      "image/png": "[encoded data removed]",
      "text/plain": [
       "<Figure size 576x576 with 2 Axes>"
      ]
     },
     "metadata": {
      "needs_background": "light"
     },
     "output_type": "display_data"
    }
   ],
   "source": [
    "fig,ax = plt.subplots(1,2,figsize=(8,8))\n",
    "plt.subplots_adjust(wspace=0.4)\n",
    "sns.barplot(data=df_new,x='Dep',y=\"Price\",hue=\"Class\")\n",
    "plt.xticks(rotation=90)\n",
    "plt.xlabel(\"Departure Time\")\n",
    "plt.title(\"Departure\")\n",
    "plt.legend(fontsize=6)\n",
    "\n",
    "plt.subplot(1,2,1)\n",
    "sns.barplot(data=df_new,x='Arr',y=\"Price\",hue=\"Class\")\n",
    "plt.xticks(rotation=90)\n",
    "plt.xlabel(\"Arrival Time\")\n",
    "plt.title(\"Arrival\")\n",
    "plt.legend(fontsize=6)\n",
    "\n",
    "plt.show()"
   ]
  },
  {
   "cell_type": "code",
   "execution_count": 30,
   "id": "b10e33ba",
   "metadata": {},
   "outputs": [
    {
     "name": "stderr",
     "output_type": "stream",
     "text": [
      "No artists with labels found to put in legend.  Note that artists whose label start with an underscore are ignored when legend() is called with no argument.\n"
     ]
    },
    {
     "data": {
      "image/png": "[encoded data removed]",
      "text/plain": [
       "<Figure size 432x288 with 1 Axes>"
      ]
     },
     "metadata": {
      "needs_background": "light"
     },
     "output_type": "display_data"
    }
   ],
   "source": [
    "dur = df_new[(df_new[\"Class\"]==\"ECONOMY\")].groupby([\"Duration_in_hrs\"])[\"Price\"].mean().reset_index()\n",
    "dur.head(3)\n",
    "\n",
    "sns.scatterplot(data=dur, x='Duration_in_hrs',y=\"Price\")\n",
    "sns.regplot(data=dur, x='Duration_in_hrs',y='Price')\n",
    "plt.title(\"Duration Vs. Price\")\n",
    "plt.legend(fontsize=6)\n",
    "plt.show()"
   ]
  },
  {
   "cell_type": "code",
   "execution_count": 31,
   "id": "b1a9e99b",
   "metadata": {},
   "outputs": [
    {
     "data": {
      "text/plain": [
       "<AxesSubplot:xlabel='Days_left', ylabel='Price'>"
      ]
     },
     "execution_count": 31,
     "metadata": {},
     "output_type": "execute_result"
    },
    {
     "data": {
      "image/png": "[encoded data removed]",
      "text/plain": [
       "<Figure size 432x288 with 1 Axes>"
      ]
     },
     "metadata": {
      "needs_background": "light"
     },
     "output_type": "display_data"
    },
    {
     "data": {
      "image/png": "[encoded data removed]",
      "text/plain": [
       "<Figure size 576x432 with 1 Axes>"
      ]
     },
     "metadata": {
      "needs_background": "light"
     },
     "output_type": "display_data"
    }
   ],
   "source": [
    "df_days = df_new[(df_new[\"Class\"]==\"ECONOMY\")].groupby(['Days_left'])['Price'].mean().reset_index()\n",
    "\n",
    "\n",
    "ax = sns.scatterplot(x=\"Days_left\", y=\"Price\", data=df_days).set_title(\"Average Price Vs. Days left\")\n",
    "\n",
    "plt.figure(figsize=(8,6)).suptitle('Airline prices based on days left before buying the ticket', fontsize=12)\n",
    "\n",
    "ax = plt.axes()\n",
    "\n",
    "sns.regplot(x=df_days.loc[df_days[\"Days_left\"]==1].Days_left, y=df_days.loc[df_days[\"Days_left\"]==1].Price, fit_reg=False, ax=ax)\n",
    "sns.regplot(x=df_days.loc[(df_days[\"Days_left\"]>1)&(df_days[\"Days_left\"]<20)].Days_left, y=df_days.loc[(df_days[\"Days_left\"]>1)&(df_days[\"Days_left\"]<20)].Price, fit_reg=True, ax=ax)\n",
    "sns.regplot(x=df_days.loc[df_days[\"Days_left\"]>=20].Days_left, y=df_days.loc[df_days[\"Days_left\"]>=20].Price, fit_reg=True, ax=ax)"
   ]
  },
  {
   "cell_type": "code",
   "execution_count": 32,
   "id": "54df44dc",
   "metadata": {},
   "outputs": [],
   "source": [
    "counts = df_new['Journey_day'].value_counts()\n"
   ]
  },
  {
   "cell_type": "code",
   "execution_count": 33,
   "id": "63c34961",
   "metadata": {},
   "outputs": [
    {
     "data": {
      "image/png": "[encoded data removed]",
      "text/plain": [
       "<Figure size 432x288 with 1 Axes>"
      ]
     },
     "metadata": {},
     "output_type": "display_data"
    }
   ],
   "source": [
    "\n",
    "# Create the pie chart\n",
    "fig, ax = plt.subplots()\n",
    "pie = ax.pie(counts,labels= counts.index, autopct='%1.1f%%', \n",
    "                 wedgeprops={ 'linewidth' : 2, 'edgecolor' : 'white' },\n",
    "                 startangle=150,labeldistance=1.1)\n",
    "    \n",
    "# Add a circle at the center of the chart to create the donut shape\n",
    "center_circle = plt.Circle((0, 0), 0.8, fc='white')\n",
    "fig.gca().add_artist(center_circle)\n",
    "\n",
    "    \n",
    "plt.title('Journey Day', fontsize=18)\n",
    "\n",
    "# Show the plot\n",
    "plt.show()\n"
   ]
  },
  {
   "cell_type": "code",
   "execution_count": 34,
   "id": "c72f524d",
   "metadata": {},
   "outputs": [
    {
     "data": {
      "image/png": "[encoded data removed]",
      "text/plain": [
       "<Figure size 432x288 with 1 Axes>"
      ]
     },
     "metadata": {
      "needs_background": "light"
     },
     "output_type": "display_data"
    }
   ],
   "source": [
    "sns.barplot(data=df_new, y=\"Journey_day\", x=\"Price\",hue=\"Class\")\n",
    "plt.title(\"Journey Day Vs. Price\")\n",
    "plt.legend(fontsize=5)\n",
    "plt.show()"
   ]
  },
  {
   "cell_type": "code",
   "execution_count": 35,
   "id": "956cd568",
   "metadata": {},
   "outputs": [
    {
     "data": {
      "image/png": "[encoded data removed]",
      "text/plain": [
       "<Figure size 432x288 with 1 Axes>"
      ]
     },
     "metadata": {
      "needs_background": "light"
     },
     "output_type": "display_data"
    }
   ],
   "source": [
    "sns.barplot(data=df_new[(df_new[\"Source\"]==\"Delhi\")&(df_new[\"Class\"]==\"ECONOMY\")],x=\"Total Stops\",y=\"Price\",hue=\"Destination\")\n",
    "\n",
    "plt.title(\"Stops Vs Price\")\n",
    "plt.show()"
   ]
  },
  {
   "cell_type": "code",
   "execution_count": 36,
   "id": "51abd24a",
   "metadata": {},
   "outputs": [
    {
     "data": {
      "text/plain": [
       "Index(['Date of Journey', 'Total Stops', 'Price', 'Airline', 'Flight_Code',\n",
       "       'Class', 'Source', 'Destination', 'Days_left', 'Journey_day', 'Dep',\n",
       "       'Arr', 'Route', 'Duration_in_hrs', '75%'],\n",
       "      dtype='object')"
      ]
     },
     "execution_count": 36,
     "metadata": {},
     "output_type": "execute_result"
    }
   ],
   "source": [
    "#Let us make a copy of df_new\n",
    "df_final = df_new.copy()\n",
    "df_final.columns"
   ]
  },
  {
   "cell_type": "code",
   "execution_count": 37,
   "id": "9fbfa69d",
   "metadata": {},
   "outputs": [],
   "source": [
    "def preprocessing(df):\n",
    "    \n",
    "    #Encode the ordinal variables Total Stops,Class,Journey_day,Dep,Arr\n",
    "    \n",
    "    df['Total Stops'] = df['Total Stops'].replace({'non-st':0,'1-stop':1,'2+-sto':2}).astype(int)\n",
    "    df['Class'] =df['Class'].replace({'ECONOMY':0,'PREMIUMECONOMY':1,'BUSINESS':2,'FIRST':3}).astype(int)\n",
    "    df['Journey_day'] = df[\"Journey_day\"].map({'Monday':0,'Tuesday':1,'Wednesday':2,'Thursday':3,'Friday':4,'Saturday':5,'Sunday':6})\n",
    "    df['Dep'] = df['Dep'].map({'Early Morning':0,'Morning':1,'Afternoon':2,'Evening':3,'Night':4,'Late Night':5})\n",
    "    df['Arr'] = df['Arr'].map({'Early Morning':0,'Morning':1,'Afternoon':2,'Evening':3,'Night':4,'Late Night':5})\n",
    "    \n",
    "    #Create dummy variables for Airline, Source, Destination\n",
    "    \n",
    "    cols = ['Airline','Source','Destination']\n",
    "    dummies = pd.get_dummies(df[cols],drop_first=True)\n",
    "    df = pd.concat([df,dummies],axis=1)\n",
    "    \n",
    "    df.drop(['Date of Journey','Airline','Source', 'Destination','Route'],axis=1,inplace=True)\n",
    "    \n",
    "    return df"
   ]
  },
  {
   "cell_type": "code",
   "execution_count": 38,
   "id": "1bdfe45e",
   "metadata": {},
   "outputs": [],
   "source": [
    "df_preprocessed = preprocessing(df_final)\n",
    "# df_preprocessed.columns()"
   ]
  },
  {
   "cell_type": "code",
   "execution_count": null,
   "id": "43b068b2",
   "metadata": {},
   "outputs": [],
   "source": []
  },
  {
   "cell_type": "code",
   "execution_count": 39,
   "id": "138f4328",
   "metadata": {},
   "outputs": [],
   "source": [
    "X = df_preprocessed.drop(['Price', 'Flight_Code'],axis=1)\n",
    "y = df_preprocessed['Price']"
   ]
  },
  {
   "cell_type": "code",
   "execution_count": 40,
   "id": "d0df49fc",
   "metadata": {},
   "outputs": [
    {
     "data": {
      "text/html": [
       "<div>\n",
       "<style scoped>\n",
       "    .dataframe tbody tr th:only-of-type {\n",
       "        vertical-align: middle;\n",
       "    }\n",
       "\n",
       "    .dataframe tbody tr th {\n",
       "        vertical-align: top;\n",
       "    }\n",
       "\n",
       "    .dataframe thead th {\n",
       "        text-align: right;\n",
       "    }\n",
       "</style>\n",
       "<table border=\"1\" class=\"dataframe\">\n",
       "  <thead>\n",
       "    <tr style=\"text-align: right;\">\n",
       "      <th></th>\n",
       "      <th>Total Stops</th>\n",
       "      <th>Class</th>\n",
       "      <th>Days_left</th>\n",
       "      <th>Journey_day</th>\n",
       "      <th>Dep</th>\n",
       "      <th>Arr</th>\n",
       "      <th>Duration_in_hrs</th>\n",
       "      <th>75%</th>\n",
       "      <th>Airline_AirAsia</th>\n",
       "      <th>Airline_AkasaAir</th>\n",
       "      <th>...</th>\n",
       "      <th>Source_Delhi</th>\n",
       "      <th>Source_Hyderabad</th>\n",
       "      <th>Source_Kolkata</th>\n",
       "      <th>Source_Mumbai</th>\n",
       "      <th>Destination_Bangalore</th>\n",
       "      <th>Destination_Chennai</th>\n",
       "      <th>Destination_Delhi</th>\n",
       "      <th>Destination_Hyderabad</th>\n",
       "      <th>Destination_Kolkata</th>\n",
       "      <th>Destination_Mumbai</th>\n",
       "    </tr>\n",
       "  </thead>\n",
       "  <tbody>\n",
       "    <tr>\n",
       "      <th>0</th>\n",
       "      <td>0</td>\n",
       "      <td>0</td>\n",
       "      <td>1</td>\n",
       "      <td>0</td>\n",
       "      <td>4</td>\n",
       "      <td>5</td>\n",
       "      <td>2.083333</td>\n",
       "      <td>14.250000</td>\n",
       "      <td>0</td>\n",
       "      <td>0</td>\n",
       "      <td>...</td>\n",
       "      <td>1</td>\n",
       "      <td>0</td>\n",
       "      <td>0</td>\n",
       "      <td>0</td>\n",
       "      <td>0</td>\n",
       "      <td>0</td>\n",
       "      <td>0</td>\n",
       "      <td>0</td>\n",
       "      <td>0</td>\n",
       "      <td>1</td>\n",
       "    </tr>\n",
       "    <tr>\n",
       "      <th>1</th>\n",
       "      <td>0</td>\n",
       "      <td>0</td>\n",
       "      <td>1</td>\n",
       "      <td>0</td>\n",
       "      <td>5</td>\n",
       "      <td>0</td>\n",
       "      <td>2.333333</td>\n",
       "      <td>14.250000</td>\n",
       "      <td>0</td>\n",
       "      <td>0</td>\n",
       "      <td>...</td>\n",
       "      <td>1</td>\n",
       "      <td>0</td>\n",
       "      <td>0</td>\n",
       "      <td>0</td>\n",
       "      <td>0</td>\n",
       "      <td>0</td>\n",
       "      <td>0</td>\n",
       "      <td>0</td>\n",
       "      <td>0</td>\n",
       "      <td>1</td>\n",
       "    </tr>\n",
       "    <tr>\n",
       "      <th>2</th>\n",
       "      <td>0</td>\n",
       "      <td>0</td>\n",
       "      <td>1</td>\n",
       "      <td>0</td>\n",
       "      <td>5</td>\n",
       "      <td>0</td>\n",
       "      <td>2.166667</td>\n",
       "      <td>14.250000</td>\n",
       "      <td>0</td>\n",
       "      <td>0</td>\n",
       "      <td>...</td>\n",
       "      <td>1</td>\n",
       "      <td>0</td>\n",
       "      <td>0</td>\n",
       "      <td>0</td>\n",
       "      <td>0</td>\n",
       "      <td>0</td>\n",
       "      <td>0</td>\n",
       "      <td>0</td>\n",
       "      <td>0</td>\n",
       "      <td>1</td>\n",
       "    </tr>\n",
       "    <tr>\n",
       "      <th>3</th>\n",
       "      <td>0</td>\n",
       "      <td>0</td>\n",
       "      <td>1</td>\n",
       "      <td>0</td>\n",
       "      <td>3</td>\n",
       "      <td>4</td>\n",
       "      <td>2.083333</td>\n",
       "      <td>14.250000</td>\n",
       "      <td>0</td>\n",
       "      <td>0</td>\n",
       "      <td>...</td>\n",
       "      <td>1</td>\n",
       "      <td>0</td>\n",
       "      <td>0</td>\n",
       "      <td>0</td>\n",
       "      <td>0</td>\n",
       "      <td>0</td>\n",
       "      <td>0</td>\n",
       "      <td>0</td>\n",
       "      <td>0</td>\n",
       "      <td>1</td>\n",
       "    </tr>\n",
       "    <tr>\n",
       "      <th>4</th>\n",
       "      <td>0</td>\n",
       "      <td>0</td>\n",
       "      <td>1</td>\n",
       "      <td>0</td>\n",
       "      <td>4</td>\n",
       "      <td>5</td>\n",
       "      <td>2.166667</td>\n",
       "      <td>14.250000</td>\n",
       "      <td>0</td>\n",
       "      <td>0</td>\n",
       "      <td>...</td>\n",
       "      <td>1</td>\n",
       "      <td>0</td>\n",
       "      <td>0</td>\n",
       "      <td>0</td>\n",
       "      <td>0</td>\n",
       "      <td>0</td>\n",
       "      <td>0</td>\n",
       "      <td>0</td>\n",
       "      <td>0</td>\n",
       "      <td>1</td>\n",
       "    </tr>\n",
       "    <tr>\n",
       "      <th>...</th>\n",
       "      <td>...</td>\n",
       "      <td>...</td>\n",
       "      <td>...</td>\n",
       "      <td>...</td>\n",
       "      <td>...</td>\n",
       "      <td>...</td>\n",
       "      <td>...</td>\n",
       "      <td>...</td>\n",
       "      <td>...</td>\n",
       "      <td>...</td>\n",
       "      <td>...</td>\n",
       "      <td>...</td>\n",
       "      <td>...</td>\n",
       "      <td>...</td>\n",
       "      <td>...</td>\n",
       "      <td>...</td>\n",
       "      <td>...</td>\n",
       "      <td>...</td>\n",
       "      <td>...</td>\n",
       "      <td>...</td>\n",
       "      <td>...</td>\n",
       "    </tr>\n",
       "    <tr>\n",
       "      <th>445361</th>\n",
       "      <td>1</td>\n",
       "      <td>2</td>\n",
       "      <td>50</td>\n",
       "      <td>0</td>\n",
       "      <td>1</td>\n",
       "      <td>3</td>\n",
       "      <td>11.250000</td>\n",
       "      <td>18.833333</td>\n",
       "      <td>0</td>\n",
       "      <td>0</td>\n",
       "      <td>...</td>\n",
       "      <td>0</td>\n",
       "      <td>0</td>\n",
       "      <td>0</td>\n",
       "      <td>0</td>\n",
       "      <td>0</td>\n",
       "      <td>1</td>\n",
       "      <td>0</td>\n",
       "      <td>0</td>\n",
       "      <td>0</td>\n",
       "      <td>0</td>\n",
       "    </tr>\n",
       "    <tr>\n",
       "      <th>445362</th>\n",
       "      <td>1</td>\n",
       "      <td>2</td>\n",
       "      <td>50</td>\n",
       "      <td>0</td>\n",
       "      <td>1</td>\n",
       "      <td>4</td>\n",
       "      <td>11.166667</td>\n",
       "      <td>18.833333</td>\n",
       "      <td>0</td>\n",
       "      <td>0</td>\n",
       "      <td>...</td>\n",
       "      <td>0</td>\n",
       "      <td>0</td>\n",
       "      <td>0</td>\n",
       "      <td>0</td>\n",
       "      <td>0</td>\n",
       "      <td>1</td>\n",
       "      <td>0</td>\n",
       "      <td>0</td>\n",
       "      <td>0</td>\n",
       "      <td>0</td>\n",
       "    </tr>\n",
       "    <tr>\n",
       "      <th>445363</th>\n",
       "      <td>1</td>\n",
       "      <td>2</td>\n",
       "      <td>50</td>\n",
       "      <td>0</td>\n",
       "      <td>1</td>\n",
       "      <td>4</td>\n",
       "      <td>13.083333</td>\n",
       "      <td>18.833333</td>\n",
       "      <td>0</td>\n",
       "      <td>0</td>\n",
       "      <td>...</td>\n",
       "      <td>0</td>\n",
       "      <td>0</td>\n",
       "      <td>0</td>\n",
       "      <td>0</td>\n",
       "      <td>0</td>\n",
       "      <td>1</td>\n",
       "      <td>0</td>\n",
       "      <td>0</td>\n",
       "      <td>0</td>\n",
       "      <td>0</td>\n",
       "    </tr>\n",
       "    <tr>\n",
       "      <th>445364</th>\n",
       "      <td>1</td>\n",
       "      <td>2</td>\n",
       "      <td>50</td>\n",
       "      <td>0</td>\n",
       "      <td>1</td>\n",
       "      <td>3</td>\n",
       "      <td>11.250000</td>\n",
       "      <td>18.833333</td>\n",
       "      <td>0</td>\n",
       "      <td>0</td>\n",
       "      <td>...</td>\n",
       "      <td>0</td>\n",
       "      <td>0</td>\n",
       "      <td>0</td>\n",
       "      <td>0</td>\n",
       "      <td>0</td>\n",
       "      <td>1</td>\n",
       "      <td>0</td>\n",
       "      <td>0</td>\n",
       "      <td>0</td>\n",
       "      <td>0</td>\n",
       "    </tr>\n",
       "    <tr>\n",
       "      <th>445365</th>\n",
       "      <td>1</td>\n",
       "      <td>2</td>\n",
       "      <td>50</td>\n",
       "      <td>0</td>\n",
       "      <td>1</td>\n",
       "      <td>4</td>\n",
       "      <td>11.166667</td>\n",
       "      <td>18.833333</td>\n",
       "      <td>0</td>\n",
       "      <td>0</td>\n",
       "      <td>...</td>\n",
       "      <td>0</td>\n",
       "      <td>0</td>\n",
       "      <td>0</td>\n",
       "      <td>0</td>\n",
       "      <td>0</td>\n",
       "      <td>1</td>\n",
       "      <td>0</td>\n",
       "      <td>0</td>\n",
       "      <td>0</td>\n",
       "      <td>0</td>\n",
       "    </tr>\n",
       "  </tbody>\n",
       "</table>\n",
       "<p>445366 rows × 28 columns</p>\n",
       "</div>"
      ],
      "text/plain": [
       "        Total Stops  Class  Days_left  Journey_day  Dep  Arr  Duration_in_hrs  \\\n",
       "0                 0      0          1            0    4    5         2.083333   \n",
       "1                 0      0          1            0    5    0         2.333333   \n",
       "2                 0      0          1            0    5    0         2.166667   \n",
       "3                 0      0          1            0    3    4         2.083333   \n",
       "4                 0      0          1            0    4    5         2.166667   \n",
       "...             ...    ...        ...          ...  ...  ...              ...   \n",
       "445361            1      2         50            0    1    3        11.250000   \n",
       "445362            1      2         50            0    1    4        11.166667   \n",
       "445363            1      2         50            0    1    4        13.083333   \n",
       "445364            1      2         50            0    1    3        11.250000   \n",
       "445365            1      2         50            0    1    4        11.166667   \n",
       "\n",
       "              75%  Airline_AirAsia   Airline_AkasaAir   ...  Source_Delhi  \\\n",
       "0       14.250000                 0                  0  ...             1   \n",
       "1       14.250000                 0                  0  ...             1   \n",
       "2       14.250000                 0                  0  ...             1   \n",
       "3       14.250000                 0                  0  ...             1   \n",
       "4       14.250000                 0                  0  ...             1   \n",
       "...           ...               ...                ...  ...           ...   \n",
       "445361  18.833333                 0                  0  ...             0   \n",
       "445362  18.833333                 0                  0  ...             0   \n",
       "445363  18.833333                 0                  0  ...             0   \n",
       "445364  18.833333                 0                  0  ...             0   \n",
       "445365  18.833333                 0                  0  ...             0   \n",
       "\n",
       "        Source_Hyderabad  Source_Kolkata  Source_Mumbai  \\\n",
       "0                      0               0              0   \n",
       "1                      0               0              0   \n",
       "2                      0               0              0   \n",
       "3                      0               0              0   \n",
       "4                      0               0              0   \n",
       "...                  ...             ...            ...   \n",
       "445361                 0               0              0   \n",
       "445362                 0               0              0   \n",
       "445363                 0               0              0   \n",
       "445364                 0               0              0   \n",
       "445365                 0               0              0   \n",
       "\n",
       "        Destination_Bangalore  Destination_Chennai  Destination_Delhi  \\\n",
       "0                           0                    0                  0   \n",
       "1                           0                    0                  0   \n",
       "2                           0                    0                  0   \n",
       "3                           0                    0                  0   \n",
       "4                           0                    0                  0   \n",
       "...                       ...                  ...                ...   \n",
       "445361                      0                    1                  0   \n",
       "445362                      0                    1                  0   \n",
       "445363                      0                    1                  0   \n",
       "445364                      0                    1                  0   \n",
       "445365                      0                    1                  0   \n",
       "\n",
       "        Destination_Hyderabad  Destination_Kolkata  Destination_Mumbai  \n",
       "0                           0                    0                   1  \n",
       "1                           0                    0                   1  \n",
       "2                           0                    0                   1  \n",
       "3                           0                    0                   1  \n",
       "4                           0                    0                   1  \n",
       "...                       ...                  ...                 ...  \n",
       "445361                      0                    0                   0  \n",
       "445362                      0                    0                   0  \n",
       "445363                      0                    0                   0  \n",
       "445364                      0                    0                   0  \n",
       "445365                      0                    0                   0  \n",
       "\n",
       "[445366 rows x 28 columns]"
      ]
     },
     "execution_count": 40,
     "metadata": {},
     "output_type": "execute_result"
    }
   ],
   "source": [
    "X"
   ]
  },
  {
   "cell_type": "code",
   "execution_count": 41,
   "id": "ca4a85f1",
   "metadata": {},
   "outputs": [],
   "source": [
    "from sklearn.preprocessing import StandardScaler\n",
    "X_train,X_test,y_train,y_test = train_test_split(X,y,test_size=0.3,random_state=1,shuffle=True)\n",
    "# rs = RobustScaler()\n",
    "st = StandardScaler()\n",
    "X_train = st.fit_transform(X_train)\n",
    "X_test = st.transform(X_test)"
   ]
  },
  {
   "cell_type": "code",
   "execution_count": 42,
   "id": "2da252fd",
   "metadata": {},
   "outputs": [],
   "source": [
    "# knn = KNeighborsRegressor()\n",
    "\n",
    "# knn.fit(X_train,y_train)\n",
    "\n",
    "# #predicting\n",
    "# y_pred = knn.predict(X_test)"
   ]
  },
  {
   "cell_type": "code",
   "execution_count": 43,
   "id": "b1b41ff6",
   "metadata": {},
   "outputs": [],
   "source": [
    "# print(\"Mean Absolute Error:\",mean_absolute_error(y_test,y_pred))\n",
    "# print(\"Mean Squared Error:\",mean_squared_error(y_test,y_pred))\n",
    "# print(\"R2 Score:\",r2_score(y_test,y_pred))"
   ]
  },
  {
   "cell_type": "code",
   "execution_count": 44,
   "id": "fe2c0125",
   "metadata": {},
   "outputs": [
    {
     "name": "stdout",
     "output_type": "stream",
     "text": [
      "R2 Score 0.7707331628821359\n"
     ]
    }
   ],
   "source": [
    "lr = LinearRegression()\n",
    "\n",
    "lr.fit(X_train,y_train)\n",
    "\n",
    "#prediction\n",
    "y_pred = lr.predict(X_test)\n",
    "\n",
    "#model evaluation\n",
    "print(\"R2 Score\",r2_score(y_test,y_pred))"
   ]
  },
  {
   "cell_type": "code",
   "execution_count": 45,
   "id": "f03302ab",
   "metadata": {},
   "outputs": [
    {
     "name": "stdout",
     "output_type": "stream",
     "text": [
      "R2 Score 0.9171043911644403\n"
     ]
    }
   ],
   "source": [
    "dt = DecisionTreeRegressor(random_state=1)\n",
    "\n",
    "dt.fit(X_train,y_train)\n",
    "\n",
    "#prediction\n",
    "y_pred = dt.predict(X_test)\n",
    "\n",
    "#model evaluation\n",
    "print(\"R2 Score\",r2_score(y_test,y_pred))"
   ]
  },
  {
   "cell_type": "code",
   "execution_count": 46,
   "id": "847de669",
   "metadata": {},
   "outputs": [
    {
     "name": "stdout",
     "output_type": "stream",
     "text": [
      "R2 Score 0.9451796757043363\n"
     ]
    }
   ],
   "source": [
    "#model building\n",
    "xg = XGBRegressor(n_jobs=5,learning_rate=0.1,max_depth=10,random_state=1)\n",
    "xg.fit(X_train,y_train)\n",
    "#prediction\n",
    "y_pred = xg.predict(X_test)\n",
    "\n",
    "#model evaluation\n",
    "print(\"R2 Score\",r2_score(y_test,y_pred))"
   ]
  },
  {
   "cell_type": "code",
   "execution_count": 47,
   "id": "e6f644f3",
   "metadata": {},
   "outputs": [
    {
     "name": "stdout",
     "output_type": "stream",
     "text": [
      "R2 Score 0.9503311641971852\n"
     ]
    }
   ],
   "source": [
    "rf = RandomForestRegressor(n_estimators = 300,random_state=1)\n",
    "\n",
    "rf.fit(X_train,y_train)\n",
    "\n",
    "#prediction\n",
    "y_pred = rf.predict(X_test)\n",
    "\n",
    "#model evaluation\n",
    "print(\"R2 Score\",r2_score(y_test,y_pred))"
   ]
  },
  {
   "cell_type": "code",
   "execution_count": 48,
   "id": "1da8acc2",
   "metadata": {},
   "outputs": [
    {
     "data": {
      "text/html": [
       "<div>\n",
       "<style scoped>\n",
       "    .dataframe tbody tr th:only-of-type {\n",
       "        vertical-align: middle;\n",
       "    }\n",
       "\n",
       "    .dataframe tbody tr th {\n",
       "        vertical-align: top;\n",
       "    }\n",
       "\n",
       "    .dataframe thead th {\n",
       "        text-align: right;\n",
       "    }\n",
       "</style>\n",
       "<table border=\"1\" class=\"dataframe\">\n",
       "  <thead>\n",
       "    <tr style=\"text-align: right;\">\n",
       "      <th></th>\n",
       "      <th>Predicted Price</th>\n",
       "      <th>Actual Price</th>\n",
       "    </tr>\n",
       "  </thead>\n",
       "  <tbody>\n",
       "    <tr>\n",
       "      <th>133590</th>\n",
       "      <td>13512.0</td>\n",
       "      <td>13042</td>\n",
       "    </tr>\n",
       "    <tr>\n",
       "      <th>133591</th>\n",
       "      <td>10400.0</td>\n",
       "      <td>12178</td>\n",
       "    </tr>\n",
       "    <tr>\n",
       "      <th>133592</th>\n",
       "      <td>13925.0</td>\n",
       "      <td>15248</td>\n",
       "    </tr>\n",
       "    <tr>\n",
       "      <th>133593</th>\n",
       "      <td>39616.0</td>\n",
       "      <td>39377</td>\n",
       "    </tr>\n",
       "    <tr>\n",
       "      <th>133594</th>\n",
       "      <td>37417.0</td>\n",
       "      <td>37417</td>\n",
       "    </tr>\n",
       "    <tr>\n",
       "      <th>133595</th>\n",
       "      <td>5259.0</td>\n",
       "      <td>3975</td>\n",
       "    </tr>\n",
       "    <tr>\n",
       "      <th>133596</th>\n",
       "      <td>15217.0</td>\n",
       "      <td>14435</td>\n",
       "    </tr>\n",
       "    <tr>\n",
       "      <th>133597</th>\n",
       "      <td>13670.0</td>\n",
       "      <td>14034</td>\n",
       "    </tr>\n",
       "    <tr>\n",
       "      <th>133598</th>\n",
       "      <td>13976.0</td>\n",
       "      <td>13971</td>\n",
       "    </tr>\n",
       "    <tr>\n",
       "      <th>133599</th>\n",
       "      <td>5661.0</td>\n",
       "      <td>5394</td>\n",
       "    </tr>\n",
       "    <tr>\n",
       "      <th>133600</th>\n",
       "      <td>10881.0</td>\n",
       "      <td>11459</td>\n",
       "    </tr>\n",
       "    <tr>\n",
       "      <th>133601</th>\n",
       "      <td>6271.0</td>\n",
       "      <td>4448</td>\n",
       "    </tr>\n",
       "    <tr>\n",
       "      <th>133602</th>\n",
       "      <td>11735.0</td>\n",
       "      <td>11270</td>\n",
       "    </tr>\n",
       "    <tr>\n",
       "      <th>133603</th>\n",
       "      <td>54748.0</td>\n",
       "      <td>54608</td>\n",
       "    </tr>\n",
       "    <tr>\n",
       "      <th>133604</th>\n",
       "      <td>9804.0</td>\n",
       "      <td>9840</td>\n",
       "    </tr>\n",
       "    <tr>\n",
       "      <th>133605</th>\n",
       "      <td>6340.0</td>\n",
       "      <td>5088</td>\n",
       "    </tr>\n",
       "    <tr>\n",
       "      <th>133606</th>\n",
       "      <td>8720.0</td>\n",
       "      <td>7759</td>\n",
       "    </tr>\n",
       "    <tr>\n",
       "      <th>133607</th>\n",
       "      <td>11494.0</td>\n",
       "      <td>11328</td>\n",
       "    </tr>\n",
       "    <tr>\n",
       "      <th>133608</th>\n",
       "      <td>9915.0</td>\n",
       "      <td>11460</td>\n",
       "    </tr>\n",
       "    <tr>\n",
       "      <th>133609</th>\n",
       "      <td>13884.0</td>\n",
       "      <td>13871</td>\n",
       "    </tr>\n",
       "  </tbody>\n",
       "</table>\n",
       "</div>"
      ],
      "text/plain": [
       "        Predicted Price  Actual Price\n",
       "133590          13512.0         13042\n",
       "133591          10400.0         12178\n",
       "133592          13925.0         15248\n",
       "133593          39616.0         39377\n",
       "133594          37417.0         37417\n",
       "133595           5259.0          3975\n",
       "133596          15217.0         14435\n",
       "133597          13670.0         14034\n",
       "133598          13976.0         13971\n",
       "133599           5661.0          5394\n",
       "133600          10881.0         11459\n",
       "133601           6271.0          4448\n",
       "133602          11735.0         11270\n",
       "133603          54748.0         54608\n",
       "133604           9804.0          9840\n",
       "133605           6340.0          5088\n",
       "133606           8720.0          7759\n",
       "133607          11494.0         11328\n",
       "133608           9915.0         11460\n",
       "133609          13884.0         13871"
      ]
     },
     "execution_count": 48,
     "metadata": {},
     "output_type": "execute_result"
    }
   ],
   "source": [
    "price_data = pd.DataFrame({\"Predicted Price\":np.rint(rf.predict(X_test)),'Actual Price':y_test}).reset_index(drop=True)\n",
    "price_data.tail(20)"
   ]
  },
  {
   "cell_type": "code",
   "execution_count": 49,
   "id": "5bc09fa5",
   "metadata": {},
   "outputs": [
    {
     "data": {
      "image/png": "[encoded data removed]",
      "text/plain": [
       "<Figure size 576x432 with 1 Axes>"
      ]
     },
     "metadata": {
      "needs_background": "light"
     },
     "output_type": "display_data"
    }
   ],
   "source": [
    "plt.figure(figsize=(8,6))\n",
    "plt.title(\"Price\",fontsize=15)\n",
    "plt.ylabel('Test Predicted price',fontsize=12)\n",
    "plt.xlabel('Test Actual price',fontsize=12)\n",
    "sns.regplot(data = price_data, x = 'Predicted Price', y = 'Actual Price',scatter_kws={\"color\": \"green\"}, line_kws={\"color\": \"red\"})\n",
    "\n",
    "score_r2 = r2_score(y_test, y_pred) \n",
    "score_mae = mean_absolute_error(y_test, y_pred)\n",
    "plt.text(70000,15000,'$ R^{2} $=' + str(round(score_r2, 4)),fontsize=15)\n",
    "plt.text(70000,10000,'MAE =' + str(round(score_mae)),fontsize=15)\n",
    "plt.show()"
   ]
  },
  {
   "cell_type": "code",
   "execution_count": 50,
   "id": "186e1e49",
   "metadata": {},
   "outputs": [
    {
     "data": {
      "text/plain": [
       "Index(['Total Stops', 'Price', 'Flight_Code', 'Class', 'Days_left',\n",
       "       'Journey_day', 'Dep', 'Arr', 'Duration_in_hrs', '75%',\n",
       "       'Airline_AirAsia ', 'Airline_AkasaAir ', 'Airline_AllianceAir ',\n",
       "       'Airline_GO FIRST ', 'Airline_Indigo ', 'Airline_SpiceJet ',\n",
       "       'Airline_StarAir ', 'Airline_Vistara ', 'Source_Bangalore',\n",
       "       'Source_Chennai', 'Source_Delhi', 'Source_Hyderabad', 'Source_Kolkata',\n",
       "       'Source_Mumbai', 'Destination_Bangalore', 'Destination_Chennai',\n",
       "       'Destination_Delhi', 'Destination_Hyderabad', 'Destination_Kolkata',\n",
       "       'Destination_Mumbai'],\n",
       "      dtype='object')"
      ]
     },
     "execution_count": 50,
     "metadata": {},
     "output_type": "execute_result"
    }
   ],
   "source": [
    "df_preprocessed.columns"
   ]
  },
  {
   "cell_type": "code",
   "execution_count": 51,
   "id": "01067b6c",
   "metadata": {},
   "outputs": [],
   "source": [
    "# X1 = df_preprocessed.drop(['Price','Airline_AllianceAir ','Airline_AkasaAir ','Airline_StarAir ','Flight_Code'],axis=1)\n",
    "# print(X1)\n",
    "# y1 = df_preprocessed['Price']\n",
    "# X_train,X_test,y_train,y_test = train_test_split(X1,y1,test_size=0.3,random_state=1,shuffle=True)\n",
    "# scaler = RobustScaler()\n",
    "# X_train = scaler.fit_transform(X_train)\n",
    "# X_test = scaler.transform(X_test)\n",
    "# #model building\n",
    "# rf1 = RandomForestRegressor(n_estimators = 300,random_state=1)\n",
    "\n",
    "# rf1.fit(X_train,y_train)\n",
    "\n",
    "# #prediction\n",
    "# y_pred = rf1.predict(X_test)\n",
    "\n",
    "# #model evaluation\n",
    "# # print(\"Mean Absolute Error:\",mean_absolute_error(y_test,y_pred))\n",
    "# # print(\"Mean Squared Error:\",mean_squared_error(y_test,y_pred))\n",
    "# print(\"R2 Score\",r2_score(y_test,y_pred))"
   ]
  },
  {
   "cell_type": "code",
   "execution_count": 53,
   "id": "53934635",
   "metadata": {},
   "outputs": [
    {
     "data": {
      "text/plain": [
       "array([0, 5335, 'SG-8169', 0, 1, 0, 4, 5, 2.0833333333333335, 14.25, 0, 0,\n",
       "       0, 0, 0, 1, 0, 0, 0, 0, 1, 0, 0, 0, 0, 0, 0, 0, 0, 1], dtype=object)"
      ]
     },
     "execution_count": 53,
     "metadata": {},
     "output_type": "execute_result"
    }
   ],
   "source": [
    "import pickle\n",
    "\n",
    "#save the model\n",
    "pickle.dump(rf , open('Airplane_model.pkl', 'wb'))\n",
    "#save the scaler\n",
    "pickle.dump(st, open('Scaler.pkl', 'wb'))\n",
    "# Loading the Saved Model\n",
    "loaded_model = pickle.load(open('Airplane_model.pkl','rb'))\n",
    "df_preprocessed.iloc[0].values"
   ]
  },
  {
   "cell_type": "code",
   "execution_count": 58,
   "id": "7a8894bc",
   "metadata": {},
   "outputs": [
    {
     "data": {
      "text/plain": [
       "array([13597.29666667])"
      ]
     },
     "execution_count": 58,
     "metadata": {},
     "output_type": "execute_result"
    }
   ],
   "source": [
    "y_prediction = loaded_model.predict(st.transform([[0.00000000e+00,0.00000000e+00, 0.00000000e+00, 1.00000000e+00,\n",
    "       0.00000000e+00, 4.00000000e+00, 5.00000000e+00, 2.08333333e+00,\n",
    "       0.00000000e+00, 0.00000000e+00, 0.00000000e+00, 0.00000000e+00,\n",
    "       0.00000000e+00, 1.00000000e+00, 0.00000000e+00, 0.00000000e+00,\n",
    "       0.00000000e+00, 0.00000000e+00, 1.00000000e+00, 0.00000000e+00,\n",
    "       0.00000000e+00, 0.00000000e+00, 0.00000000e+00, 0.00000000e+00,\n",
    "       0.00000000e+00, 0.00000000e+00, 0.00000000e+00, 1.00000000e+00]]))\n",
    "\n",
    "y_prediction"
   ]
  },
  {
   "cell_type": "code",
   "execution_count": null,
   "id": "eb1f5656",
   "metadata": {},
   "outputs": [],
   "source": []
  },
  {
   "cell_type": "code",
   "execution_count": null,
   "id": "1f9bab21",
   "metadata": {},
   "outputs": [],
   "source": []
  },
  {
   "cell_type": "code",
   "execution_count": 12,
   "id": "25402b45",
   "metadata": {},
   "outputs": [
    {
     "name": "stdout",
     "output_type": "stream",
     "text": [
      " * Serving Flask app \"__main__\" (lazy loading)\n",
      " * Environment: production\n",
      "\u001b[31m   WARNING: This is a development server. Do not use it in a production deployment.\u001b[0m\n",
      "\u001b[2m   Use a production WSGI server instead.\u001b[0m\n",
      " * Debug mode: on\n"
     ]
    },
    {
     "name": "stderr",
     "output_type": "stream",
     "text": [
      " * Restarting with watchdog (windowsapi)\n"
     ]
    },
    {
     "ename": "SystemExit",
     "evalue": "1",
     "output_type": "error",
     "traceback": [
      "An exception has occurred, use %tb to see the full traceback.\n",
      "\u001b[1;31mSystemExit\u001b[0m\u001b[1;31m:\u001b[0m 1\n"
     ]
    }
   ],
   "source": [
    "from flask import Flask, request, render_template\n",
    "from flask_cors import cross_origin\n",
    "import sklearn\n",
    "import pickle\n",
    "import pandas as pd\n",
    "\n",
    "\n",
    "app = Flask(__name__)\n",
    "model = pickle.load(open(\"C:/Users/Anjali Mutyala/Downloads/ML Project/flight-price-prediction-main/c1_flight_rf.pkl\", \"rb\"))\n",
    "\n",
    "\n",
    "@app.route(\"/\")\n",
    "@cross_origin()\n",
    "def home():\n",
    "    return render_template(\"home.html\")\n",
    "\n",
    "@app.route(\"/predict\", methods = [\"GET\", \"POST\"])\n",
    "@cross_origin()\n",
    "def predict():\n",
    "    if request.method == \"POST\":\n",
    "\n",
    "        # Date_of_Journey\n",
    "        date_dep = request.form[\"Dep_Time\"]\n",
    "        journey_day = int(pd.to_datetime(date_dep, format=\"%Y-%m-%dT%H:%M\").day)\n",
    "        journey_month = int(pd.to_datetime(date_dep, format =\"%Y-%m-%dT%H:%M\").month)\n",
    "        # print(\"Journey Date : \",Journey_day, Journey_month)\n",
    "\n",
    "        # Departure\n",
    "        dep_hour = int(pd.to_datetime(date_dep, format =\"%Y-%m-%dT%H:%M\").hour)\n",
    "        dep_min = int(pd.to_datetime(date_dep, format =\"%Y-%m-%dT%H:%M\").minute)\n",
    "        # print(\"Departure : \",Dep_hour, Dep_min)\n",
    "\n",
    "        # Arrival\n",
    "        date_arr = request.form[\"Arrival_Time\"]\n",
    "        arrival_hour = int(pd.to_datetime(date_arr, format =\"%Y-%m-%dT%H:%M\").hour)\n",
    "        arrival_min = int(pd.to_datetime(date_arr, format =\"%Y-%m-%dT%H:%M\").minute)\n",
    "        # print(\"Arrival : \", Arrival_hour, Arrival_min)\n",
    "\n",
    "        # Duration\n",
    "        Duration_hour = abs(arrival_hour - dep_hour)\n",
    "        Duration_mins = abs(arrival_min - dep_min)\n",
    "        # print(\"Duration : \", dur_hour, dur_min)\n",
    "\n",
    "        # Total Stops\n",
    "        Total_Stops = int(request.form[\"stops\"])\n",
    "        # print(Total_stops)\n",
    "\n",
    "\n",
    "\n",
    "        airline=request.form['airline']\n",
    "        if(airline=='Jet Airways'):\n",
    "            Airline_AirIndia = 0\n",
    "            Airline_GoAir = 0\n",
    "            Airline_IndiGo = 0\n",
    "            Airline_JetAirways = 1\n",
    "            Airline_MultipleCarriers = 0\n",
    "            Airline_SpiceJet = 0\n",
    "            Airline_Vistara = 0\n",
    "            Airline_Other = 0\n",
    "\n",
    "        elif (airline=='IndiGo'):\n",
    "            Airline_AirIndia = 0\n",
    "            Airline_GoAir = 0\n",
    "            Airline_IndiGo = 1\n",
    "            Airline_JetAirways = 0\n",
    "            Airline_MultipleCarriers = 0\n",
    "            Airline_SpiceJet = 0\n",
    "            Airline_Vistara = 0\n",
    "            Airline_Other = 0\n",
    "\n",
    "        elif (airline=='Air India'):\n",
    "            Airline_AirIndia = 1\n",
    "            Airline_GoAir = 0\n",
    "            Airline_IndiGo = 0\n",
    "            Airline_JetAirways = 0\n",
    "            Airline_MultipleCarriers = 0\n",
    "            Airline_SpiceJet = 0\n",
    "            Airline_Vistara = 0\n",
    "            Airline_Other = 0\n",
    "            \n",
    "        elif (airline=='Multiple carriers'):\n",
    "            Airline_AirIndia = 0\n",
    "            Airline_GoAir = 0\n",
    "            Airline_IndiGo = 0\n",
    "            Airline_JetAirways = 0\n",
    "            Airline_MultipleCarriers = 1\n",
    "            Airline_SpiceJet = 0\n",
    "            Airline_Vistara = 0\n",
    "            Airline_Other = 0\n",
    "            \n",
    "        elif (airline=='SpiceJet'):\n",
    "            Airline_AirIndia = 0\n",
    "            Airline_GoAir = 0\n",
    "            Airline_IndiGo = 0\n",
    "            Airline_JetAirways = 0\n",
    "            Airline_MultipleCarriers = 0\n",
    "            Airline_SpiceJet = 1\n",
    "            Airline_Vistara = 0\n",
    "            Airline_Other = 0\n",
    "            \n",
    "        elif (airline=='Vistara'):\n",
    "            Airline_AirIndia = 0\n",
    "            Airline_GoAir = 0\n",
    "            Airline_IndiGo = 0\n",
    "            Airline_JetAirways = 0\n",
    "            Airline_MultipleCarriers = 0\n",
    "            Airline_SpiceJet = 0\n",
    "            Airline_Vistara = 1\n",
    "            Airline_Other = 0\n",
    "\n",
    "        elif (airline=='GoAir'):\n",
    "            Airline_AirIndia = 0\n",
    "            Airline_GoAir = 1\n",
    "            Airline_IndiGo = 0\n",
    "            Airline_JetAirways = 0\n",
    "            Airline_MultipleCarriers = 0\n",
    "            Airline_SpiceJet = 0\n",
    "            Airline_Vistara = 0\n",
    "            Airline_Other = 0\n",
    "\n",
    "        else:\n",
    "            Airline_AirIndia = 0\n",
    "            Airline_GoAir = 0\n",
    "            Airline_IndiGo = 0\n",
    "            Airline_JetAirways = 0\n",
    "            Airline_MultipleCarriers = 0\n",
    "            Airline_SpiceJet = 0\n",
    "            Airline_Vistara = 0\n",
    "            Airline_Other = 1\n",
    "\n",
    "\n",
    "        Source = request.form[\"Source\"]\n",
    "        if (Source == 'Delhi'):\n",
    "            Source_Delhi = 1\n",
    "            Source_Kolkata = 0\n",
    "            Source_Mumbai = 0\n",
    "            Source_Chennai = 0\n",
    "\n",
    "        elif (Source == 'Kolkata'):\n",
    "            Source_Delhi = 0\n",
    "            Source_Kolkata = 1\n",
    "            Source_Mumbai = 0\n",
    "            Source_Chennai = 0\n",
    "\n",
    "        elif (Source == 'Mumbai'):\n",
    "            Source_Delhi = 0\n",
    "            Source_Kolkata = 0\n",
    "            Source_Mumbai = 1\n",
    "            Source_Chennai = 0\n",
    "\n",
    "        elif (Source == 'Chennai'):\n",
    "            Source_Delhi = 0\n",
    "            Source_Kolkata = 0\n",
    "            Source_Mumbai = 0\n",
    "            Source_Chennai = 1\n",
    "\n",
    "        else:\n",
    "            Source_Delhi = 0\n",
    "            Source_Kolkata = 0\n",
    "            Source_Mumbai = 0\n",
    "            Source_Chennai = 0\n",
    "\n",
    "\n",
    "\n",
    "        Source = request.form[\"Destination\"]\n",
    "        if (Source == 'Cochin'):\n",
    "            Destination_Cochin = 1\n",
    "            Destination_Delhi = 0\n",
    "            Destination_Hyderabad = 0\n",
    "            Destination_Kolkata = 0\n",
    "        \n",
    "        elif (Source == 'Delhi'):\n",
    "            Destination_Cochin = 0\n",
    "            Destination_Delhi = 1\n",
    "            Destination_Hyderabad = 0\n",
    "            Destination_Kolkata = 0\n",
    "\n",
    "        elif (Source == 'Hyderabad'):\n",
    "            Destination_Cochin = 0\n",
    "            Destination_Delhi = 0\n",
    "            Destination_Hyderabad = 1\n",
    "            Destination_Kolkata = 0\n",
    "\n",
    "        elif (Source == 'Kolkata'):\n",
    "            Destination_Cochin = 0\n",
    "            Destination_Delhi = 0\n",
    "            Destination_Hyderabad = 0\n",
    "            Destination_Kolkata = 1\n",
    "\n",
    "        else:\n",
    "            Destination_Cochin = 0\n",
    "            Destination_Delhi = 0\n",
    "            Destination_Hyderabad = 0\n",
    "            Destination_Kolkata = 0\n",
    "\n",
    "\n",
    "        prediction=model.predict([[\n",
    "            Total_Stops,\n",
    "            journey_day,\n",
    "            journey_month,\n",
    "            dep_hour,\n",
    "            dep_min,\n",
    "            arrival_hour,\n",
    "            arrival_min,\n",
    "            Duration_hour,\n",
    "            Duration_mins,\n",
    "            Airline_AirIndia,\n",
    "            Airline_GoAir,\n",
    "            Airline_IndiGo,\n",
    "            Airline_JetAirways,\n",
    "            Airline_MultipleCarriers,\n",
    "            Airline_Other,\n",
    "            Airline_SpiceJet,\n",
    "            Airline_Vistara,\n",
    "            Source_Chennai,\n",
    "            Source_Kolkata,\n",
    "            Source_Mumbai,\n",
    "            Destination_Cochin,\n",
    "            Destination_Delhi,\n",
    "            Destination_Hyderabad,\n",
    "            Destination_Kolkata,\n",
    "        ]])\n",
    "\n",
    "        output=round(prediction[0],2)\n",
    "\n",
    "        return render_template('home.html',prediction_text=\"Your Flight price is Rs. {}\".format(output))\n",
    "\n",
    "\n",
    "    return render_template(\"home.html\")\n",
    "\n",
    "\n",
    "\n",
    "\n",
    "if __name__ == \"__main__\":\n",
    "    app.run(debug=True)\n"
   ]
  },
  {
   "cell_type": "code",
   "execution_count": 5,
   "id": "caa53ccd",
   "metadata": {},
   "outputs": [
    {
     "name": "stdout",
     "output_type": "stream",
     "text": [
      "Collecting Flask-Cors\n",
      "  Downloading Flask_Cors-4.0.0-py2.py3-none-any.whl (14 kB)\n",
      "Requirement already satisfied: Flask>=0.9 in c:\\ana\\lib\\site-packages (from Flask-Cors) (1.1.2)\n",
      "Requirement already satisfied: Jinja2>=2.10.1 in c:\\ana\\lib\\site-packages (from Flask>=0.9->Flask-Cors) (2.11.3)\n",
      "Requirement already satisfied: click>=5.1 in c:\\ana\\lib\\site-packages (from Flask>=0.9->Flask-Cors) (8.0.3)\n",
      "Requirement already satisfied: itsdangerous>=0.24 in c:\\ana\\lib\\site-packages (from Flask>=0.9->Flask-Cors) (2.0.1)\n",
      "Requirement already satisfied: Werkzeug>=0.15 in c:\\ana\\lib\\site-packages (from Flask>=0.9->Flask-Cors) (2.0.2)\n",
      "Requirement already satisfied: colorama in c:\\ana\\lib\\site-packages (from click>=5.1->Flask>=0.9->Flask-Cors) (0.4.4)\n",
      "Requirement already satisfied: MarkupSafe>=0.23 in c:\\ana\\lib\\site-packages (from Jinja2>=2.10.1->Flask>=0.9->Flask-Cors) (1.1.1)\n",
      "Installing collected packages: Flask-Cors\n",
      "Successfully installed Flask-Cors-4.0.0\n"
     ]
    }
   ],
   "source": [
    "!pip3 install Flask-Cors"
   ]
  },
  {
   "cell_type": "code",
   "execution_count": null,
   "id": "356f6a3d",
   "metadata": {},
   "outputs": [],
   "source": []
  }
 ],
 "metadata": {
  "kernelspec": {
   "display_name": "Python 3 (ipykernel)",
   "language": "python",
   "name": "python3"
  },
  "language_info": {
   "codemirror_mode": {
    "name": "ipython",
    "version": 3
   },
   "file_extension": ".py",
   "mimetype": "text/x-python",
   "name": "python",
   "nbconvert_exporter": "python",
   "pygments_lexer": "ipython3",
   "version": "3.9.7"
  }
 },
 "nbformat": 4,
 "nbformat_minor": 5
}
